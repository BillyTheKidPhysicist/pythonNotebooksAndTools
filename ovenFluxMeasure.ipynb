{
  "cells": [
    {
      "cell_type": "markdown",
      "source": [
        "# Oven flux analysis\n",
        "\n",
        "Analyze the flux leaving our oven. This is to resovle a discrepancy in the observed versusu predicted flux. Basically the last culprit is maybe the oven doesn't spit out what we think it does"
      ],
      "metadata": {
        "collapsed": false,
        "pycharm": {
          "name": "#%% md\n"
        }
      }
    },
    {
      "cell_type": "markdown",
      "source": [
        "## overlap integral"
      ],
      "metadata": {
        "collapsed": false,
        "pycharm": {
          "name": "#%% md\n"
        }
      }
    },
    {
      "cell_type": "code",
      "source": [
        "import numpy as np\n",
        "import matplotlib.pyplot as plt\n",
        "#run 16 and 18 are from 1_20_2022\n",
        "#others are from 1_27_2022\n",
        "\n",
        "runName='run20'\n",
        "atomicBeamRadiusDict={'run18':5e-3,'run16':7.5e-3,'run20':5e-3,'run21':5e-3,'run22':5e-3,'run23':5e-3,'run62':5e-3,'run58':5e-3}\n",
        "#really rough guess for run16. FOr others I assume they are the same as run18 because the laser is in the same place\n",
        "#beacuse it appears to be so\n",
        "powerDict={'run18':19.8e-6,'run16':19.8e-6,'run20':5.9e-6,'run21':6.0e-6,'run22':2.38e-6,'run23':2.7e-6,'run62':2.1e-6,'run58':2.8e-6}\n",
        "windowFactor=.93 #horizontal beam goes through 1 window\n",
        "P=windowFactor*powerDict[runName]\n",
        "w=3.0e-3 #meters\n",
        "I0=(2*P/(np.pi*w**2))\n",
        "atomicBeamRadius=atomicBeamRadiusDict[runName] #meter\n",
        "pixelSize=.147e-3 #meter\n",
        "xBounds=(-1.5*pixelSize,1.5*pixelSize) #longitudinal\n",
        "yBounds=(-atomicBeamRadius,atomicBeamRadius) #in and out of image\n",
        "zBounds=xBounds #vertical image\n",
        "IFunc=lambda y,z:np.exp(-2*(y**2+z**2)/w**2)\n",
        "yArr=np.linspace(yBounds[0],yBounds[1],100)\n",
        "zArr=np.linspace(zBounds[0],zBounds[1],100)\n",
        "dA=(yArr[1]-yArr[0])*(zArr[1]-zArr[0])\n",
        "coords=np.asarray(np.meshgrid(yArr,zArr)).T.reshape(-1,2)\n",
        "integral=sum([IFunc(*coord)*dA for coord in coords])\n",
        "overlapIntegral=integral*(xBounds[1]-xBounds[0])\n",
        "print('unitless overlap integral: ',overlapIntegral)\n"
      ],
      "outputs": [
        {
          "output_type": "stream",
          "name": "stdout",
          "text": [
            "unitless overlap integral:  7.353607183617871e-10\n"
          ]
        }
      ],
      "execution_count": 1,
      "metadata": {
        "collapsed": false,
        "pycharm": {
          "name": "#%%\n"
        },
        "execution": {
          "iopub.status.busy": "2022-02-02T18:49:11.674Z",
          "iopub.execute_input": "2022-02-02T18:49:11.700Z",
          "iopub.status.idle": "2022-02-02T18:49:11.917Z",
          "shell.execute_reply": "2022-02-02T18:49:11.938Z"
        }
      }
    },
    {
      "cell_type": "code",
      "source": [
        "#test that my overlap integral makes sense\n",
        "yArrTest=np.linspace(-3*w,3*w,300)\n",
        "zArrTest=np.linspace(-3*w,3*w,300)\n",
        "dA=(yArrTest[1]-yArrTest[0])*(zArrTest[1]-zArrTest[0])\n",
        "coords=np.asarray(np.meshgrid(yArrTest,zArrTest)).T.reshape(-1,2)\n",
        "powerTest=I0*sum([IFunc(*coord)*dA for coord in coords])\n",
        "assert abs(powerTest-P)<P/1e6"
      ],
      "outputs": [],
      "execution_count": 2,
      "metadata": {
        "collapsed": false,
        "pycharm": {
          "name": "#%%\n"
        },
        "execution": {
          "iopub.status.busy": "2022-02-02T18:49:11.921Z",
          "iopub.execute_input": "2022-02-02T18:49:11.924Z",
          "iopub.status.idle": "2022-02-02T18:49:12.052Z",
          "shell.execute_reply": "2022-02-02T18:49:12.064Z"
        }
      }
    },
    {
      "cell_type": "markdown",
      "source": [
        "## import fits file data and DAQ data. Make frequency array"
      ],
      "metadata": {
        "collapsed": false,
        "pycharm": {
          "name": "#%% md\n"
        }
      }
    },
    {
      "cell_type": "code",
      "source": [
        "#-----import data and orient------\n",
        "from astropy.io import fits\n",
        "filePath='data/'\n",
        "fitsFile=fits.open(filePath+runName+'Near.fits')\n",
        "imagesArrRaw=fitsFile[0].data\n",
        "imagesArrRaw=imagesArrRaw.astype(float) #need to convert to float from int16\n",
        "imagesArrRaw=np.flip(imagesArrRaw,axis=1)\n",
        "assert len(imagesArrRaw.shape)==3"
      ],
      "outputs": [],
      "execution_count": 3,
      "metadata": {
        "collapsed": false,
        "pycharm": {
          "name": "#%%\n"
        },
        "execution": {
          "iopub.status.busy": "2022-02-02T18:49:12.057Z",
          "iopub.execute_input": "2022-02-02T18:49:12.061Z",
          "iopub.status.idle": "2022-02-02T18:49:12.191Z",
          "shell.execute_reply": "2022-02-02T18:49:12.205Z"
        }
      }
    },
    {
      "cell_type": "code",
      "source": [
        "voltZeroFreqDict={'run18':-1.01,'run16':-1.01,'run20':.465,'run21':.465,'run22':.485,'run23':.5,'run62':.625,'run58':.625}\n",
        "daqData=np.loadtxt(filePath+runName+'DAQData.csv',delimiter=',') #everything looks good and agrees\n",
        "voltArrTotal=daqData[:,0]\n",
        "scanRangeDict={'run18':(-3.9,3.9),'run16':(-3.9,3.9),'run20':(-4.4,4.4),'run21':(-4.4,4.4),'run22':(-4.4,4.4),'run23':(-4.4,4.4),'run62':(-4.4,4.4),'run58':(-4.4,4.4)}\n",
        "# %matplotlib tk\n",
        "# plt.plot(daqData[:,0],daqData[:,1])\n",
        "# plt.show()\n",
        "# %matplotlib inline\n",
        "voltZeroFreq=voltZeroFreqDict[runName] #from the graph\n",
        "scanStart,scanStop=scanRangeDict[runName]\n",
        "assert scanStart>daqData[:,0].min() and scanStop<daqData[:,0].max()\n",
        "HzPerVolt=570.0*1e6\n",
        "voltArr=np.linspace(scanStart,scanStop,len(imagesArrRaw))\n",
        "freqArrRaw=(voltArr-voltZeroFreq)*HzPerVolt\n",
        "freqArrTotal=(voltArrTotal-voltZeroFreq)*HzPerVolt\n",
        "plt.plot(freqArrTotal/1e6,daqData[:,1])\n",
        "plt.axvline(x=0.0,c='black')\n",
        "plt.axvline(x=804.0,c='black')\n",
        "plt.show()"
      ],
      "outputs": [
        {
          "output_type": "display_data",
          "data": {
            "text/plain": "<Figure size 432x288 with 1 Axes>",
            "image/png": "[encoded data removed]"
          },
          "metadata": {
            "needs_background": "light"
          }
        }
      ],
      "execution_count": 4,
      "metadata": {
        "collapsed": false,
        "pycharm": {
          "name": "#%%\n"
        },
        "execution": {
          "iopub.status.busy": "2022-02-02T18:49:12.196Z",
          "iopub.execute_input": "2022-02-02T18:49:12.201Z",
          "iopub.status.idle": "2022-02-02T18:49:12.248Z",
          "shell.execute_reply": "2022-02-02T18:49:12.268Z"
        }
      }
    },
    {
      "cell_type": "code",
      "source": [
        "#we have no dark image so I have to get the background by inspection\n",
        "backgroundValue=imagesArrRaw.min()\n",
        "imagesArr=imagesArrRaw-backgroundValue"
      ],
      "outputs": [],
      "execution_count": 5,
      "metadata": {
        "collapsed": false,
        "pycharm": {
          "name": "#%%\n"
        },
        "execution": {
          "iopub.status.busy": "2022-02-02T18:49:12.252Z",
          "iopub.execute_input": "2022-02-02T18:49:12.255Z",
          "iopub.status.idle": "2022-02-02T18:49:12.321Z",
          "shell.execute_reply": "2022-02-02T18:49:12.340Z"
        }
      }
    },
    {
      "cell_type": "markdown",
      "source": [
        "### make sure I am faithfully extracting the same image here that I am on the fits file\n",
        "\n",
        "There are some wierd image I need to trim away present in all the first few images. Or at least I think they are weird...."
      ],
      "metadata": {
        "collapsed": false,
        "pycharm": {
          "name": "#%% md\n"
        }
      }
    },
    {
      "cell_type": "code",
      "source": [
        "#I'm not totally sure that the image region is exactly the same. At most it's off by 1 pixel\n",
        "#x: longitudinal\n",
        "#y: in and out of image\n",
        "#z: vertical\n",
        "subImageFitCoordsDict={'run18':[[226,228],[169,171]],'run16':[[308,310],[291,293]],'run20':[[214,216],[159,161]],\n",
        "        'run21':[[214,216],[159,161]],'run22':[[214,216],[159,161]],'run23':[[214,216],[159,161]],\n",
        "                       'run62':[[208,210],[155,157]],'run58':[[208,210],[155,157]]} #counted at center of pixel\n",
        "subImageCoords=subImageFitCoordsDict[runName]\n",
        "\n",
        "assert imagesArr.min()>=0.0\n",
        "totalPixelsZ=imagesArr.shape[1]\n",
        "xPixelsFit=np.asarray(subImageCoords[0])-1\n",
        "zPixelsFit=np.asarray(subImageCoords[1])\n",
        "xPixelNP=xPixelsFit\n",
        "zPixelNP=totalPixelsZ-np.flip(zPixelsFit)\n",
        "xPixelNP[1]+=1\n",
        "zPixelNP[1]+=1\n",
        "subImage=imagesArr[:,zPixelNP[0]:zPixelNP[1],xPixelNP[0]:xPixelNP[1]]\n",
        "spectralProfileFull=np.sum(np.sum(subImage,axis=1),axis=1)\n",
        "plt.plot(freqArrRaw/1e6,spectralProfileFull)\n",
        "plt.xlabel('MHz')\n",
        "plt.show()"
      ],
      "outputs": [
        {
          "output_type": "display_data",
          "data": {
            "text/plain": "<Figure size 432x288 with 1 Axes>",
            "image/png": "[encoded data removed]"
          },
          "metadata": {
            "needs_background": "light"
          }
        }
      ],
      "execution_count": 6,
      "metadata": {
        "collapsed": false,
        "pycharm": {
          "name": "#%%\n"
        },
        "execution": {
          "iopub.status.busy": "2022-02-02T18:49:12.326Z",
          "iopub.execute_input": "2022-02-02T18:49:12.330Z",
          "iopub.status.idle": "2022-02-02T18:49:12.419Z",
          "shell.execute_reply": "2022-02-02T18:49:12.444Z"
        }
      }
    },
    {
      "cell_type": "code",
      "source": [
        "weirdImagesDict={'run18':4,'run16':4,'run20':3,'run21':3,'run22':3,'run23':3,'run62':3,'run58':3}\n",
        "weirdImages=weirdImagesDict[runName]\n",
        "spectralProfile=spectralProfileFull[weirdImages:]\n",
        "freqArr=freqArrRaw[weirdImages :]\n",
        "plt.plot(freqArr/1e6,spectralProfile)\n",
        "plt.grid()\n",
        "plt.show()"
      ],
      "outputs": [
        {
          "output_type": "display_data",
          "data": {
            "text/plain": "<Figure size 432x288 with 1 Axes>",
            "image/png": "[encoded data removed]"
          },
          "metadata": {
            "needs_background": "light"
          }
        }
      ],
      "execution_count": 7,
      "metadata": {
        "collapsed": false,
        "pycharm": {
          "name": "#%%\n"
        },
        "execution": {
          "iopub.status.busy": "2022-02-02T18:49:12.424Z",
          "iopub.execute_input": "2022-02-02T18:49:12.434Z",
          "iopub.status.idle": "2022-02-02T18:49:12.458Z",
          "shell.execute_reply": "2022-02-02T18:49:12.503Z"
        }
      }
    },
    {
      "cell_type": "markdown",
      "source": [
        "## Fit the data to a gaussian profile to determine temperature and the peak of the normalized spectral profile"
      ],
      "metadata": {
        "collapsed": false,
        "pycharm": {
          "name": "#%% md\n"
        }
      }
    },
    {
      "cell_type": "code",
      "source": [
        "angle=np.pi/4\n",
        "lam=670.776e-9\n",
        "def deltaFreqToVelocity(deltaFreq,angle):\n",
        "    return -deltaFreq*lam/np.cos(angle)"
      ],
      "outputs": [],
      "execution_count": 8,
      "metadata": {
        "collapsed": false,
        "pycharm": {
          "name": "#%%\n"
        },
        "execution": {
          "iopub.status.busy": "2022-02-02T18:49:12.464Z",
          "iopub.execute_input": "2022-02-02T18:49:12.468Z",
          "iopub.status.idle": "2022-02-02T18:49:12.474Z",
          "shell.execute_reply": "2022-02-02T18:49:12.506Z"
        }
      }
    },
    {
      "cell_type": "code",
      "source": [
        "#fit the data to a temperautre profile\n",
        "#ALL I AM TRYING TO DO IS FIND THE TEMPERATURE. be cautious using other results\n",
        "\n",
        "\n",
        "\n",
        "import scipy.optimize as spo\n",
        "kb=1.38e-23\n",
        "m=1.16e-26\n",
        "hyperfineSep=804e6\n",
        "#run 16 and 18 have the sidebands on\n",
        "#tuples ratio values are (F2,F1)\n",
        "peakWeightDict={'run18':(1.18,.9),'run16':(1.18,.9),'run20':(1.,0.6),'run21':(1.0,.6),'run22':(1.0,.6),'run23':(1.0,.6),'run62':(1.0,.6),'run58':(1.0,.6) }\n",
        "peakWeights=peakWeightDict[runName]\n",
        "freqToVelocity=671e-9 #turn out this is the doppler shift\n",
        "ovenTiltAngle=45*np.pi/180 #tilt of oven\n",
        "theta=5*np.pi/180 #angle from centerline of oven. must be small angle\n",
        "@np.vectorize\n",
        "def maxwell_Boltzman_Speed(s,T):\n",
        "    if s<0:\n",
        "        return 0.0\n",
        "    sigma_T=np.sqrt(kb*T/m) # m/s\n",
        "    sMean=np.sqrt(np.pi*kb*T/(2*m)) #to normalize\n",
        "    return s**2*np.exp(-.5*s**2/sigma_T**2)/sMean**2\n",
        "def spectral_Profile_Func(freq,freq0,a,b,T,tilt):\n",
        "    vT1=deltaFreqToVelocity(freq-freq0,tilt)\n",
        "    vT2=deltaFreqToVelocity(freq-freq0-hyperfineSep,tilt)\n",
        "    normSignal=a*peakWeights[0]*maxwell_Boltzman_Speed(vT1,T)\n",
        "    normSignal+=a*peakWeights[1]*maxwell_Boltzman_Speed(vT2,T)\n",
        "    return normSignal+b\n",
        "freqArrFit=freqArr-hyperfineSep\n",
        "minAngle=40*np.pi/180\n",
        "maxAngle=55*np.pi/180\n",
        "bounds=[(-np.inf,0.0,-np.inf,100.0,minAngle),(np.inf,np.inf,np.inf,np.inf,maxAngle)]\n",
        "guess=[-1e8,spectralProfile.max(),0.0,800.0,np.pi/4]\n",
        "params=spo.curve_fit(spectral_Profile_Func,freqArrFit,spectralProfile,p0=guess,bounds=bounds)[0]\n",
        "v=deltaFreqToVelocity(freqArrFit,params[-1])\n",
        "\n",
        "plt.plot(freqArrFit,spectralProfile)\n",
        "plt.plot(freqArrFit,spectral_Profile_Func(freqArrFit,*params))\n",
        "plt.show()\n",
        "peakVelocity=v[np.argmax(spectral_Profile_Func(freqArrFit,*params))]\n",
        "print('Temp is:',params[3])\n",
        "print('estimated angle is:',180*params[-1]/np.pi,'degree')\n",
        "print('peak speed',peakVelocity)\n",
        "plt.plot(v,spectralProfile)\n",
        "plt.plot(v,spectral_Profile_Func(freqArrFit,*params))\n",
        "plt.axvline(x=peakVelocity,c='black')\n",
        "plt.show()\n"
      ],
      "outputs": [
        {
          "output_type": "display_data",
          "data": {
            "text/plain": "<Figure size 432x288 with 1 Axes>",
            "image/png": "[encoded data removed]"
          },
          "metadata": {
            "needs_background": "light"
          }
        },
        {
          "output_type": "stream",
          "name": "stdout",
          "text": [
            "Temp is: 654.8159546649089\n",
            "estimated angle is: 45.121644851027604 degree\n",
            "peak speed 1907.3501909369777\n"
          ]
        },
        {
          "output_type": "display_data",
          "data": {
            "text/plain": "<Figure size 432x288 with 1 Axes>",
            "image/png": "[encoded data removed]"
          },
          "metadata": {
            "needs_background": "light"
          }
        }
      ],
      "execution_count": 9,
      "metadata": {
        "collapsed": false,
        "pycharm": {
          "name": "#%%\n"
        },
        "execution": {
          "iopub.status.busy": "2022-02-02T18:49:12.489Z",
          "iopub.execute_input": "2022-02-02T18:49:12.492Z",
          "iopub.status.idle": "2022-02-02T18:49:12.607Z",
          "shell.execute_reply": "2022-02-02T18:49:12.650Z"
        }
      }
    },
    {
      "cell_type": "code",
      "source": [
        "#in radians per second\n",
        "#get the area from the above fit\n",
        "freqArrIntegral=np.linspace(-10_000,1000,10_000)*1e6\n",
        "freq0,height,offset,T,tilt=params\n",
        "offset=0.0\n",
        "spectralProfileIntegral=spectral_Profile_Func(freqArrIntegral,freq0,height,offset,T,tilt)\n",
        "spectralProfileIntegral=spectralProfileIntegral/spectralProfileIntegral.max()\n",
        "plt.plot(spectralProfileIntegral)\n",
        "plt.show()\n",
        "assert spectralProfileIntegral[0]<spectralProfileIntegral.max()/1e6 and spectralProfileIntegral[-1]<spectralProfileIntegral.max()/1e6\n",
        "freqArrRadians=2*np.pi*freqArrIntegral\n",
        "spectralProfileNumericArea=np.trapz(spectralProfileIntegral,x=freqArrRadians)\n",
        "spectralProfileNormalized=spectralProfileIntegral/spectralProfileNumericArea\n",
        "plt.plot(freqArrIntegral,spectralProfileNormalized)\n",
        "plt.show()\n",
        "peakSpectralNorm=spectralProfileNormalized.max()\n",
        "#\n",
        "peakSpectralNorm #4.660541299762652e-11"
      ],
      "outputs": [
        {
          "output_type": "display_data",
          "data": {
            "text/plain": "<Figure size 432x288 with 1 Axes>",
            "image/png": "[encoded data removed]"
          },
          "metadata": {
            "needs_background": "light"
          }
        },
        {
          "output_type": "display_data",
          "data": {
            "text/plain": "<Figure size 432x288 with 1 Axes>",
            "image/png": "[encoded data removed]"
          },
          "metadata": {
            "needs_background": "light"
          }
        },
        {
          "output_type": "execute_result",
          "execution_count": 10,
          "data": {
            "text/plain": "8.582786316043162e-11"
          },
          "metadata": {}
        }
      ],
      "execution_count": 10,
      "metadata": {
        "collapsed": false,
        "pycharm": {
          "name": "#%%\n"
        },
        "execution": {
          "iopub.status.busy": "2022-02-02T18:49:12.624Z",
          "iopub.execute_input": "2022-02-02T18:49:12.634Z",
          "iopub.status.idle": "2022-02-02T18:49:12.725Z",
          "shell.execute_reply": "2022-02-02T18:49:12.821Z"
        }
      }
    },
    {
      "cell_type": "markdown",
      "source": [
        "## misc constants and camera/optics conversion"
      ],
      "metadata": {
        "collapsed": false,
        "pycharm": {
          "name": "#%% md\n"
        }
      }
    },
    {
      "cell_type": "code",
      "source": [
        "#--------- sigma0 -----------\n",
        "alignmentFactor=3\n",
        "transitionStrength=.5\n",
        "A21=3.689E7 #einstein coefficient\n",
        "lam=671e-9\n",
        "sigma0=transitionStrength*alignmentFactor*A21*lam**2/4.0 #this is defined for when the spectral profile is normalized using radians/second\n",
        "print('sigma0: ',sigma0,'m')"
      ],
      "outputs": [
        {
          "output_type": "stream",
          "name": "stdout",
          "text": [
            "sigma0:  6.22852143375e-06 m\n"
          ]
        }
      ],
      "execution_count": 11,
      "metadata": {
        "collapsed": false,
        "pycharm": {
          "name": "#%%\n"
        },
        "execution": {
          "iopub.status.busy": "2022-02-02T18:49:12.730Z",
          "iopub.execute_input": "2022-02-02T18:49:12.733Z",
          "iopub.status.idle": "2022-02-02T18:49:12.742Z",
          "shell.execute_reply": "2022-02-02T18:49:12.824Z"
        }
      }
    },
    {
      "cell_type": "code",
      "source": [
        "#--counts to scattering rate----\n",
        "countsToScattering=7416.0 #from jeremy. I have not double checked\n",
        "\n",
        "#----other constants---\n",
        "lam=671e-9\n",
        "h=6.626e-34\n",
        "freqTransition=3e8/lam"
      ],
      "outputs": [],
      "execution_count": 12,
      "metadata": {
        "collapsed": false,
        "pycharm": {
          "name": "#%%\n"
        },
        "execution": {
          "iopub.status.busy": "2022-02-02T18:49:12.746Z",
          "iopub.execute_input": "2022-02-02T18:49:12.749Z",
          "iopub.status.idle": "2022-02-02T18:49:12.754Z",
          "shell.execute_reply": "2022-02-02T18:49:12.826Z"
        }
      }
    },
    {
      "cell_type": "code",
      "source": [
        "scattering=spectralProfile.max()*countsToScattering\n",
        "term1=I0*sigma0*peakSpectralNorm*overlapIntegral/(h*freqTransition)\n",
        "peakDensity=scattering/term1 #units of atoms/m^3\n",
        "#run 18\n",
        "scattering/1e6 #365.705208"
      ],
      "outputs": [
        {
          "output_type": "execute_result",
          "execution_count": 13,
          "data": {
            "text/plain": "365.705208"
          },
          "metadata": {}
        }
      ],
      "execution_count": 13,
      "metadata": {
        "collapsed": false,
        "pycharm": {
          "name": "#%%\n"
        },
        "execution": {
          "iopub.status.busy": "2022-02-02T18:49:12.761Z",
          "iopub.execute_input": "2022-02-02T18:49:12.769Z",
          "iopub.status.idle": "2022-02-02T18:49:12.781Z",
          "shell.execute_reply": "2022-02-02T18:49:12.828Z"
        }
      }
    },
    {
      "cell_type": "code",
      "source": [
        "#get the total flux, Need to integrate the velocity probability distribution weighted by the velocity and the density over the are in question.\n",
        "#since the density is assumed to be constant over the area of interest, that can come out of the integral\n",
        "\n",
        "\n",
        "atomBeamArea=np.pi*(atomicBeamRadius**2)\n",
        "areaDensity=atomBeamArea*peakDensity\n",
        "flux=areaDensity*peakVelocity\n",
        "print('flux',np.round(flux/1e12),' 1e12')"
      ],
      "outputs": [
        {
          "output_type": "stream",
          "name": "stdout",
          "text": [
            "flux 106.0  1e12\n"
          ]
        }
      ],
      "execution_count": 14,
      "metadata": {
        "collapsed": false,
        "pycharm": {
          "name": "#%%\n"
        },
        "execution": {
          "iopub.status.busy": "2022-02-02T18:49:12.786Z",
          "iopub.execute_input": "2022-02-02T18:49:12.789Z",
          "iopub.status.idle": "2022-02-02T18:49:12.797Z",
          "shell.execute_reply": "2022-02-02T18:49:12.830Z"
        }
      }
    },
    {
      "cell_type": "code",
      "source": [
        "T=np.asarray([500,530.0,575,625,647,692,754])\n",
        "Flux=np.asarray([27.5,106,345,730,988,2040,1589])\n",
        "plt.scatter(T,Flux)\n",
        "plt.title('Total measured oven flux versus bottom \\n oven temperature')\n",
        "plt.ylabel('Flux, 1e12')\n",
        "plt.xlabel('Temperature,celcius')\n",
        "plt.grid()\n",
        "plt.show()"
      ],
      "outputs": [
        {
          "output_type": "display_data",
          "data": {
            "text/plain": "<Figure size 432x288 with 1 Axes>",
            "image/png": "[encoded data removed]"
          },
          "metadata": {
            "needs_background": "light"
          }
        }
      ],
      "execution_count": 15,
      "metadata": {
        "collapsed": false,
        "pycharm": {
          "name": "#%%\n"
        },
        "execution": {
          "iopub.status.busy": "2022-02-02T18:49:12.801Z",
          "iopub.execute_input": "2022-02-02T18:49:12.804Z",
          "iopub.status.idle": "2022-02-02T18:49:12.810Z",
          "shell.execute_reply": "2022-02-02T18:49:12.831Z"
        }
      }
    },
    {
      "cell_type": "code",
      "source": [],
      "outputs": [],
      "execution_count": 426,
      "metadata": {
        "collapsed": false,
        "pycharm": {
          "name": "#%%\n"
        }
      }
    }
  ],
  "metadata": {
    "kernel_info": {
      "name": "python3"
    },
    "language_info": {
      "name": "python",
      "version": "3.9.7",
      "mimetype": "text/x-python",
      "codemirror_mode": {
        "name": "ipython",
        "version": 3
      },
      "pygments_lexer": "ipython3",
      "nbconvert_exporter": "python",
      "file_extension": ".py"
    },
    "kernelspec": {
      "argv": [
        "/opt/homebrew/Caskroom/miniforge/base/bin/python3.9",
        "-m",
        "ipykernel_launcher",
        "-f",
        "{connection_file}"
      ],
      "display_name": "Python 3 (ipykernel)",
      "language": "python",
      "metadata": {
        "debugger": true
      },
      "name": "python3"
    },
    "nteract": {
      "version": "0.28.0"
    }
  },
  "nbformat": 4,
  "nbformat_minor": 0
}