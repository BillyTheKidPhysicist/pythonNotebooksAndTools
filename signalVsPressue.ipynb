{
  "cells": [
    {
      "cell_type": "code",
      "source": [
        "import numpy as np\n",
        "import matplotlib.pyplot as plt\n",
        "import scipy.optimize as spo\n",
        "def signal(p,S,gamma):\n",
        "  return S*np.exp(-gamma*p)\n",
        "P0=2.2\n",
        "\n",
        "#convert helium pressure to correct value because of gauge sensitivity\n",
        "PArr=np.asarray([3.9,4.6,6.2,8.0,10.0,18])\n",
        "PArr=(PArr-P0)/.18\n",
        "#add baseline back\n",
        "PArr=PArr+P0\n",
        "\n",
        "PArr*=1e-7*133\n",
        "P0*=1e-7*133\n",
        "\n",
        "fwhmList=[]\n",
        "peakSigArr=np.asarray([4650,3341,1492,721,359,68])\n",
        "peakSigArr=peakSigArr/peakSigArr.max()\n",
        "\n",
        "PDense=np.linspace(PArr.min(),PArr.max())\n",
        "guess=[2.5,.1]\n",
        "params=guess\n",
        "params=spo.curve_fit(signal,PArr,peakSigArr,p0=guess)[0]\n",
        "\n",
        "PExtrapole=np.linspace(P0,PArr.min())\n",
        "\n",
        "\n",
        "fig, ax = plt.subplots()\n",
        "plt.title('Peak signal versus total chamber pressure')\n",
        "# plt.grid()\n",
        "plt.xlabel('Pressure, 1e-7 Torr')\n",
        "plt.ylabel('Peak signal, au')\n",
        "ax.scatter(PArr,peakSigArr,label='data')\n",
        "ax.plot(PDense,signal(PDense,*params),c='red',label='fit')\n",
        "ax.plot(PExtrapole,signal(PExtrapole,*params),c='red',linestyle='--',label='extrapolated')\n",
        "\n",
        "plt.axvline(x=P0,c='black',linestyle=':')\n",
        "# plt.text(P0+2,.1,'No He flow')\n",
        "\n",
        "# plt.annotate('No He bleeding',(PArr[0],1),xytext=((30,1)),arrowprops=dict(facecolor='black'))\n",
        "plt.legend()\n",
        "plt.savefig('signalVersusPressure.png')\n",
        "plt.show()\n",
        "signal(PArr[0],*params)\n",
        "params"
      ],
      "outputs": [
        {
          "output_type": "display_data",
          "data": {
            "text/plain": "<Figure size 432x288 with 1 Axes>",
            "image/png": "[encoded data removed]"
          },
          "metadata": {
            "needs_background": "light"
          }
        },
        {
          "output_type": "execute_result",
          "execution_count": 125,
          "data": {
            "text/plain": "array([2.67068967e+00, 6.36060587e+03])"
          },
          "metadata": {}
        }
      ],
      "execution_count": 125,
      "metadata": {
        "collapsed": true,
        "jupyter": {
          "source_hidden": false,
          "outputs_hidden": false
        },
        "nteract": {
          "transient": {
            "deleting": false
          }
        },
        "execution": {
          "shell.execute_reply": "2022-01-06T23:15:06.507Z",
          "iopub.status.busy": "2022-01-06T23:15:06.410Z",
          "iopub.execute_input": "2022-01-06T23:15:06.418Z",
          "iopub.status.idle": "2022-01-06T23:15:06.494Z"
        }
      }
    },
    {
      "cell_type": "code",
      "source": [
        "2*.15*160/(4*100_000),1.5/300"
      ],
      "outputs": [
        {
          "output_type": "execute_result",
          "execution_count": 13,
          "data": {
            "text/plain": "(0.00012, 0.005)"
          },
          "metadata": {}
        }
      ],
      "execution_count": 13,
      "metadata": {
        "collapsed": true,
        "jupyter": {
          "source_hidden": false,
          "outputs_hidden": false
        },
        "nteract": {
          "transient": {
            "deleting": false
          }
        },
        "execution": {
          "iopub.status.busy": "2022-01-06T19:58:00.701Z",
          "iopub.execute_input": "2022-01-06T19:58:00.718Z",
          "iopub.status.idle": "2022-01-06T19:58:00.730Z",
          "shell.execute_reply": "2022-01-06T19:58:00.735Z"
        }
      }
    },
    {
      "cell_type": "code",
      "source": [
        "#estimating the cross section\n",
        "mu=params[1] #mu=n*sigma*L/P=sigma*L/(k*T). from my fit compared to Beer's law\n",
        "\n",
        "kb=1.38e-23\n",
        "T=295\n",
        "L=1.7 #total length of system\n",
        "\n",
        "# #mu has units of 1/(1e-7 Torr). Need to convert to SI\n",
        "# #convert from 1e-7 Torr to Torr\n",
        "#convert from torr to Pa\n",
        "# mu=mu*(1/(133*1e-7))\n",
        "\n",
        "\n",
        "\n",
        "sigma=mu*kb*T/L\n",
        "#convert to cm^2\n",
        "sigma=sigma*1e4\n",
        "sigma"
      ],
      "outputs": [
        {
          "output_type": "execute_result",
          "execution_count": 123,
          "data": {
            "text/plain": "1.523178030329043e-13"
          },
          "metadata": {}
        }
      ],
      "execution_count": 123,
      "metadata": {
        "collapsed": true,
        "jupyter": {
          "source_hidden": false,
          "outputs_hidden": false
        },
        "nteract": {
          "transient": {
            "deleting": false
          }
        },
        "execution": {
          "iopub.status.busy": "2022-01-06T23:10:11.217Z",
          "iopub.execute_input": "2022-01-06T23:10:11.223Z",
          "iopub.status.idle": "2022-01-06T23:10:11.232Z",
          "shell.execute_reply": "2022-01-06T23:10:11.235Z"
        }
      }
    },
    {
      "cell_type": "code",
      "source": [
        "mu=sigma*1.7*(101325*(2e-6/760))/(kb*T)\n",
        "2.67*np.exp(-mu)"
      ],
      "outputs": [
        {
          "output_type": "execute_result",
          "execution_count": 65,
          "data": {
            "text/plain": "0.48970908272346814"
          },
          "metadata": {}
        }
      ],
      "execution_count": 65,
      "metadata": {
        "collapsed": true,
        "jupyter": {
          "source_hidden": false,
          "outputs_hidden": false
        },
        "nteract": {
          "transient": {
            "deleting": false
          }
        },
        "execution": {
          "iopub.status.busy": "2022-01-06T20:29:02.523Z",
          "iopub.execute_input": "2022-01-06T20:29:02.528Z",
          "iopub.status.idle": "2022-01-06T20:29:02.537Z",
          "shell.execute_reply": "2022-01-06T20:29:02.540Z"
        }
      }
    },
    {
      "cell_type": "code",
      "source": [
        "2.6*np.exp(-6360*1e-6*133)"
      ],
      "outputs": [
        {
          "output_type": "execute_result",
          "execution_count": 87,
          "data": {
            "text/plain": "1.115866736429497"
          },
          "metadata": {}
        }
      ],
      "execution_count": 87,
      "metadata": {
        "collapsed": true,
        "jupyter": {
          "source_hidden": false,
          "outputs_hidden": false
        },
        "nteract": {
          "transient": {
            "deleting": false
          }
        },
        "execution": {
          "iopub.status.busy": "2022-01-06T20:42:27.300Z",
          "iopub.execute_input": "2022-01-06T20:42:27.313Z",
          "iopub.status.idle": "2022-01-06T20:42:27.323Z",
          "shell.execute_reply": "2022-01-06T20:42:27.326Z"
        }
      }
    },
    {
      "cell_type": "code",
      "source": [
        "PArr"
      ],
      "outputs": [
        {
          "output_type": "execute_result",
          "execution_count": 116,
          "data": {
            "text/plain": "array([11.64444444, 15.53333333, 24.42222222, 34.42222222, 45.53333333,\n       89.97777778])"
          },
          "metadata": {}
        }
      ],
      "execution_count": 116,
      "metadata": {
        "collapsed": true,
        "jupyter": {
          "source_hidden": false,
          "outputs_hidden": false
        },
        "nteract": {
          "transient": {
            "deleting": false
          }
        },
        "execution": {
          "iopub.status.busy": "2022-01-06T23:04:12.227Z",
          "iopub.execute_input": "2022-01-06T23:04:12.234Z",
          "iopub.status.idle": "2022-01-06T23:04:12.245Z",
          "shell.execute_reply": "2022-01-06T23:04:12.249Z"
        }
      }
    },
    {
      "cell_type": "code",
      "source": [
        "2*sigma*.15/(kb*4),sigma*1.7/(kb*T)"
      ],
      "outputs": [
        {
          "output_type": "execute_result",
          "execution_count": 111,
          "data": {
            "text/plain": "(82781.42278126157, 6360.606496187329)"
          },
          "metadata": {}
        }
      ],
      "execution_count": 111,
      "metadata": {
        "collapsed": true,
        "jupyter": {
          "source_hidden": false,
          "outputs_hidden": false
        },
        "nteract": {
          "transient": {
            "deleting": false
          }
        },
        "execution": {
          "iopub.status.busy": "2022-01-06T20:47:31.073Z",
          "iopub.execute_input": "2022-01-06T20:47:31.079Z",
          "iopub.status.idle": "2022-01-06T20:47:31.094Z",
          "shell.execute_reply": "2022-01-06T20:47:31.098Z"
        }
      }
    },
    {
      "cell_type": "code",
      "source": [
        "import sympy as sym\n",
        "F0,r, P0, delta, gamma,sigma=sym.symbols('F_0 r P0 delta gamma sigma')\n",
        "S=F0*r**2*sym.exp(-gamma*(P0+delta*r**2))\n",
        "rFrac=sym.solve(S.diff(r),r)[2]\n",
        "sPeak=S.subs(r,rFrac)\n",
        "rFrac0=rFrac.subs([(gamma,gamma0),(delta,delta0)])\n",
        "# rFrac0=float(rFrac0)\n",
        "# sPeak.subs([(gamma,gamma0),(delta,delta0),(P0,P0Sub),(F0,S0)])\n",
        "S0=S.subs([(gamma,gamma0),(delta,delta0),(P0,P0Sub),(r,1.0)])\n",
        "S=S.subs([(gamma,gamma0),(delta,delta0),(P0,P0Sub),(r,.5)])\n",
        "S/S0"
      ],
      "outputs": [
        {
          "output_type": "execute_result",
          "execution_count": 48,
          "data": {
            "text/plain": "0.455175390129965",
            "text/latex": "$\\displaystyle 0.455175390129965$"
          },
          "metadata": {}
        }
      ],
      "execution_count": 48,
      "metadata": {
        "collapsed": true,
        "jupyter": {
          "source_hidden": false,
          "outputs_hidden": false
        },
        "nteract": {
          "transient": {
            "deleting": false
          }
        },
        "execution": {
          "iopub.status.busy": "2021-08-11T03:18:17.009Z",
          "iopub.execute_input": "2021-08-11T03:18:17.013Z",
          "iopub.status.idle": "2021-08-11T03:18:17.025Z",
          "shell.execute_reply": "2021-08-11T03:18:17.035Z"
        }
      }
    },
    {
      "cell_type": "code",
      "source": [
        "import sympy as sym\n",
        "psi0,r, P0, delta, gamma,sigma,r0=sym.symbols('Psi_0 r P0 delta gamma sigma r0',real=True)\n",
        "psi=psi0*r*sym.exp(-gamma*(P0+delta*r**2))\n",
        "rFrac=sym.solve(psi.diff(r),r)[1]\n",
        "psiPeak=psi.subs(r,rFrac)\n",
        "rFrac0=rFrac.subs([(gamma,gamma0),(delta,delta0)])\n",
        "# # rFrac0=float(rFrac0)\n",
        "psiPeak=psiPeak.subs([(gamma,gamma0),(delta,delta0),(P0,P0Sub)])\n",
        "psi0=psi.subs([(gamma,gamma0),(delta,delta0),(P0,P0Sub),(r,1.0)])\n",
        "gain=sym.N(psiPeak/psi0)\n",
        "gain"
      ],
      "outputs": [
        {
          "output_type": "execute_result",
          "execution_count": 36,
          "data": {
            "text/plain": "1.06674243987643",
            "text/latex": "$\\displaystyle 1.06674243987643$"
          },
          "metadata": {}
        }
      ],
      "execution_count": 36,
      "metadata": {
        "collapsed": true,
        "jupyter": {
          "source_hidden": false,
          "outputs_hidden": false
        },
        "nteract": {
          "transient": {
            "deleting": false
          }
        },
        "execution": {
          "iopub.status.busy": "2021-08-11T03:10:39.516Z",
          "iopub.execute_input": "2021-08-11T03:10:39.520Z",
          "iopub.status.idle": "2021-08-11T03:10:39.531Z",
          "shell.execute_reply": "2021-08-11T03:10:39.540Z"
        }
      }
    },
    {
      "cell_type": "code",
      "source": [
        "\n",
        "sym.integrate(1/r,(r,0,r0))"
      ],
      "outputs": [
        {
          "output_type": "execute_result",
          "execution_count": 30,
          "data": {
            "text/plain": "log(r0) + oo",
            "text/latex": "$\\displaystyle \\log{\\left(r_{0} \\right)} + \\infty$"
          },
          "metadata": {}
        }
      ],
      "execution_count": 30,
      "metadata": {
        "collapsed": true,
        "jupyter": {
          "source_hidden": false,
          "outputs_hidden": false
        },
        "nteract": {
          "transient": {
            "deleting": false
          }
        },
        "execution": {
          "iopub.status.busy": "2021-08-11T03:08:24.360Z",
          "iopub.execute_input": "2021-08-11T03:08:24.365Z",
          "iopub.status.idle": "2021-08-11T03:08:24.381Z",
          "shell.execute_reply": "2021-08-11T03:08:24.390Z"
        }
      }
    },
    {
      "cell_type": "code",
      "source": [
        "sym.log(10)"
      ],
      "outputs": [
        {
          "output_type": "execute_result",
          "execution_count": 33,
          "data": {
            "text/plain": "log(10)",
            "text/latex": "$\\displaystyle \\log{\\left(10 \\right)}$"
          },
          "metadata": {}
        }
      ],
      "execution_count": 33,
      "metadata": {
        "collapsed": true,
        "jupyter": {
          "source_hidden": false,
          "outputs_hidden": false
        },
        "nteract": {
          "transient": {
            "deleting": false
          }
        },
        "execution": {
          "iopub.status.busy": "2021-08-11T03:09:20.433Z",
          "iopub.execute_input": "2021-08-11T03:09:20.437Z",
          "iopub.status.idle": "2021-08-11T03:09:20.450Z",
          "shell.execute_reply": "2021-08-11T03:09:20.460Z"
        }
      }
    },
    {
      "cell_type": "code",
      "source": [
        "F=[50,60,70,100,150,200,250,300]\n",
        "S=[620-540,675-540,750-540,925-540,1225-540,1350-540,1400-540,1400-540]\n",
        "plt.plot(F,S,marker='X')\n",
        "plt.grid()\n",
        "plt.show()"
      ],
      "outputs": [
        {
          "output_type": "display_data",
          "data": {
            "text/plain": "<Figure size 432x288 with 1 Axes>",
            "image/png": "[encoded data removed]"
          },
          "metadata": {
            "needs_background": "light"
          }
        }
      ],
      "execution_count": 4,
      "metadata": {
        "collapsed": true,
        "jupyter": {
          "source_hidden": false,
          "outputs_hidden": false
        },
        "nteract": {
          "transient": {
            "deleting": false
          }
        },
        "execution": {
          "iopub.status.busy": "2021-08-05T17:35:47.372Z",
          "iopub.execute_input": "2021-08-05T17:35:47.378Z",
          "iopub.status.idle": "2021-08-05T17:35:47.495Z",
          "shell.execute_reply": "2021-08-05T17:35:47.501Z"
        }
      }
    },
    {
      "cell_type": "code",
      "source": [],
      "outputs": [],
      "execution_count": null,
      "metadata": {
        "collapsed": true,
        "jupyter": {
          "source_hidden": false,
          "outputs_hidden": false
        },
        "nteract": {
          "transient": {
            "deleting": false
          }
        }
      }
    },
    {
      "cell_type": "code",
      "source": [],
      "outputs": [],
      "execution_count": null,
      "metadata": {
        "collapsed": true,
        "jupyter": {
          "source_hidden": false,
          "outputs_hidden": false
        },
        "nteract": {
          "transient": {
            "deleting": false
          }
        }
      }
    }
  ],
  "metadata": {
    "kernel_info": {
      "name": "python3"
    },
    "language_info": {
      "name": "python",
      "version": "3.9.7",
      "mimetype": "text/x-python",
      "codemirror_mode": {
        "name": "ipython",
        "version": 3
      },
      "pygments_lexer": "ipython3",
      "nbconvert_exporter": "python",
      "file_extension": ".py"
    },
    "kernelspec": {
      "argv": [
        "python",
        "-m",
        "ipykernel_launcher",
        "-f",
        "{connection_file}"
      ],
      "display_name": "Python 3",
      "language": "python",
      "name": "python3"
    },
    "nteract": {
      "version": "0.28.0"
    }
  },
  "nbformat": 4,
  "nbformat_minor": 0
}