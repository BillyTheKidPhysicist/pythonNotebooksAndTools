{
 "cells": [
  {
   "cell_type": "markdown",
   "source": [
    "To make a meaningful comparison I think I need to know more about my source behaviour. However I can still get a point spread function"
   ],
   "metadata": {}
  },
  {
   "cell_type": "code",
   "source": [
    "from ParticleTracerClass import ParticleTracer\n",
    "from phaseSpaceAnalyzer import SwarmSnapShot\n",
    "import dill\n",
    "from tqdm import tqdm\n",
    "import time\n",
    "from SwarmTracerClass import SwarmTracer\n",
    "import warnings\n",
    "import numpy as np\n",
    "from ParticleClass import Swarm,Particle\n",
    "from ParticleClass import Particle as ParticleBase\n",
    "from ParticleTracerLatticeClass import ParticleTracerLattice\n",
    "import matplotlib.pyplot as plt\n",
    "\n",
    "\n",
    "LObject=72.0E-2\n",
    "LImage=85E-2\n",
    "LLensHardEdge=15.24e-2\n",
    "rpLens=(5e-2,5e-2 +2.54e-2)\n",
    "magnetWidth=(.0254,.0254*1.5)\n",
    "distanceNozzleToSkimmer=.16\n",
    "skimmerThickness=.01 #artificial value. My model doesn't support thin slices, so it has to be thick\n",
    "\n",
    "fringeFrac=1.5\n",
    "LFringe=fringeFrac*max(rpLens)\n",
    "LLens=LLensHardEdge+2*LFringe\n",
    "LObject-=LFringe\n",
    "LImage-=LFringe\n",
    "\n",
    "PTL=ParticleTracerLattice(v0Nominal=210.0,latticeType='injector',parallel=True)\n",
    "PTL.add_Drift(distanceNozzleToSkimmer,ap=.0254)\n",
    "PTL.add_Drift(skimmerThickness,ap=.0254/2)\n",
    "PTL.add_Drift(LObject-(skimmerThickness+distanceNozzleToSkimmer),ap=.07)\n",
    "PTL.add_Halbach_Lens_Sim(rpLens,LLens,apFrac=.98,magnetWidth=magnetWidth)\n",
    "PTL.add_Drift(1.5*LImage,ap=.07)\n",
    "# assert PTL.elList[1].fringeFracOuter==fringeFrac and abs(PTL.elList[1].Lm-LLensHardEdge)<1e-9\n",
    "PTL.end_Lattice()\n",
    "xMin=abs(PTL.elList[-1].r1[0])\n",
    "xMax=abs(PTL.elList[-1].r2[0])\n",
    "particleTracer=ParticleTracer(PTL)"
   ],
   "outputs": [],
   "execution_count": 1,
   "metadata": {
    "execution": {
     "iopub.status.busy": "2022-01-20T21:07:05.381Z",
     "iopub.execute_input": "2022-01-20T21:07:05.421Z",
     "iopub.status.idle": "2022-01-20T21:07:10.441Z",
     "shell.execute_reply": "2022-01-20T21:07:10.498Z"
    }
   }
  },
  {
   "cell_type": "markdown",
   "source": [
    "# Helper functions"
   ],
   "metadata": {
    "nteract": {
     "transient": {
      "deleting": false
     }
    }
   }
  },
  {
   "cell_type": "code",
   "execution_count": 2,
   "outputs": [],
   "source": [
    "\n",
    "\n",
    "class Interpolater:\n",
    "    def __init__(self,swarm,PTL):\n",
    "        self.swarm=swarm\n",
    "        self.PTL=PTL\n",
    "        self.endDriftLength=abs(self.PTL.elList[-1].r2[0]-self.PTL.elList[-1].r1[0])\n",
    "    def __call__(self,xOrbit,maxRadius=np.inf,vTMax=np.inf):\n",
    "        #xOrbit: Distance in orbit frame, POSITIVE to ease with analyze. Know that the tracing is done with x being negative\n",
    "        #returns in units of mm\n",
    "        #vTMax: maximum transverse velocity for interpolation\n",
    "        #useAssert: I can use this interplater elsewhere if I turn this off\n",
    "        assert -self.PTL.elList[-1].r2[0]>xOrbit>0.0\n",
    "        yList=[]\n",
    "        zList=[]\n",
    "        for particle in self.swarm:\n",
    "            qArr=particle.qArr\n",
    "            if -qArr[0][0]<xOrbit<-qArr[-1][0]:\n",
    "                pArr=particle.pArr\n",
    "                indexBefore=np.argmax(-qArr[:,0]>xOrbit)-1\n",
    "                y0,z0=qArr[indexBefore,1:]\n",
    "                deltaX=xOrbit-(-qArr[indexBefore][0])\n",
    "                ySlope,zSlope=pArr[indexBefore,1:]/pArr[indexBefore,0]\n",
    "                y=y0+ySlope*deltaX\n",
    "                z=z0+zSlope*deltaX\n",
    "                yList.append(y)\n",
    "                zList.append(z)\n",
    "        yArr=np.asarray(yList)*1e3\n",
    "        zArr=np.asarray(zList)*1e3\n",
    "        rArr=np.sqrt(yArr**2+zArr**2)\n",
    "        yArr=yArr[rArr<maxRadius]\n",
    "        zArr=zArr[rArr<maxRadius]\n",
    "        return np.asarray([yArr,zArr])"
   ],
   "metadata": {
    "collapsed": false,
    "pycharm": {
     "name": "#%%\n"
    }
   }
  },
  {
   "cell_type": "markdown",
   "source": [
    "# Load simulated particles, with final position and velocity, assuming they havne't been clipped for skimmer survival"
   ],
   "metadata": {
    "nteract": {
     "transient": {
      "deleting": false
     }
    }
   }
  },
  {
   "cell_type": "code",
   "execution_count": 35,
   "outputs": [
    {
     "name": "stdout",
     "output_type": "stream",
     "text": [
      "number of particles: 3091006\n"
     ]
    }
   ],
   "source": [
    "#load and flip longitudinal velocity\n",
    "import pandas as pd\n",
    "simEndName='run57_z9_cm.txt'\n",
    "filePath='particlesAtDifferentStops/'\n",
    "fileName=filePath+simEndName\n",
    "data = np.asarray(pd.read_csv(fileName, delim_whitespace=True, header=None))\n",
    "# np.random.shuffle(data) #only shuffles along first axis\n",
    "assert data.shape[1]==6\n",
    "print('number of particles:', len(data))\n",
    "data[:,:2]*=-1\n",
    "data[:,3:5]*=-1\n",
    "np.random.shuffle(data)\n",
    "vHeTerminal=210\n",
    "assert np.sum(np.isnan(data))==False"
   ],
   "metadata": {
    "collapsed": false,
    "pycharm": {
     "name": "#%%\n"
    }
   }
  },
  {
   "cell_type": "code",
   "execution_count": 36,
   "outputs": [],
   "source": [
    "# file=open('collisionInJetParticles/particleList2.obj','rb')\n",
    "# JparticleList=dill.load(file)\n",
    "# vHeTerminal=210\n",
    "#\n",
    "# swarm=Swarm()\n",
    "# data=[]\n",
    "# qPastList=[]\n",
    "# for _ in range(1):\n",
    "#     for p in JparticleList[:]:\n",
    "#         qi=np.asarray([-p.z,-p.y,p.x])*1e-2\n",
    "#         pi=np.asarray([-p.vZ,-p.vY,p.vX])*1e-2\n",
    "#         data.append(np.append(qi,pi))\n",
    "#         qPast=p.rKE[1:]*1e-2\n",
    "#         qPast[:,0]*=-1\n",
    "#         qPast[:,1]*=-1\n",
    "#         qPastList.append(qPast)"
   ],
   "metadata": {
    "collapsed": false,
    "pycharm": {
     "name": "#%%\n"
    }
   }
  },
  {
   "cell_type": "markdown",
   "source": [
    "# Trace Swarm"
   ],
   "metadata": {
    "collapsed": false
   }
  },
  {
   "cell_type": "code",
   "execution_count": 46,
   "outputs": [],
   "source": [
    "import multiprocess as mp\n",
    "vHeCutoff=50.0\n",
    "h=2e-6\n",
    "xCutoff=-1.25#PTL.elList[-1].r2[0]+10*h*vHeTerminal\n",
    "\n",
    "%matplotlib inline\n",
    "def trace(Xi):\n",
    "    qi=Xi[:3]\n",
    "    pi=Xi[3:]\n",
    "    assert qi[0]<0.0\n",
    "    particleInitial=Particle(qi=qi,pi=pi)\n",
    "    if np.abs(np.abs(pi[0])-vHeTerminal)>vHeCutoff:\n",
    "        return None\n",
    "    try:\n",
    "        particleTraced=particleTracer.trace(particleInitial,h,3.0/200.0,fastMode=False,stepsBetweenLogging=5,jetCollision=True)\n",
    "    except:\n",
    "        print('failed')\n",
    "        return None\n",
    "    if particleTraced.qf is None:\n",
    "        return None\n",
    "    elif particleTraced.qf[0]<xCutoff:\n",
    "        return particleTraced\n",
    "    else:\n",
    "        return None\n",
    "    # return particleTraced\n",
    "    # PTL.show_Lattice(particle=particleTraced,showTraceLines=True,trueAspectRatio=False)/"
   ],
   "metadata": {
    "collapsed": false,
    "pycharm": {
     "name": "#%%\n"
    }
   }
  },
  {
   "cell_type": "code",
   "execution_count": null,
   "outputs": [
    {
     "name": "stdout",
     "output_type": "stream",
     "text": [
      "failed\n",
      "failed\n",
      "failed\n",
      "failed\n",
      "failed\n",
      "failed\n",
      "failed\n",
      "failed\n",
      "failed\n",
      "failed\n",
      "failed\n",
      "failed\n",
      "failed\n",
      "failed\n",
      "failed\n",
      "failed\n",
      "failed\n",
      "failed\n",
      "failed\n",
      "failed\n",
      "failed\n",
      "failed\n",
      "failed\n",
      "failed\n",
      "failed\n",
      "failed\n",
      "failed\n",
      "failed\n",
      "failed\n",
      "failed\n",
      "failed\n",
      "failed\n",
      "failed\n",
      "failed\n",
      "failed\n",
      "failed\n",
      "failed\n",
      "failed\n",
      "failed\n",
      "failed\n",
      "failed\n",
      "failed\n",
      "failed\n",
      "failed\n",
      "failed\n",
      "failed\n",
      "failed\n",
      "failed\n",
      "failed\n",
      "failed\n",
      "failed\n",
      "failed\n",
      "failed\n",
      "failed\n",
      "failed\n",
      "failed\n",
      "failed\n",
      "failed\n",
      "failed\n",
      "failed\n",
      "failed\n",
      "failed\n",
      "failed\n",
      "failed\n",
      "failed\n",
      "failed\n",
      "failed\n",
      "failed\n",
      "failed\n",
      "failed\n",
      "failed\n",
      "failed\n",
      "failed\n",
      "failed\n",
      "failed\n",
      "failed\n",
      "failed\n",
      "failed\n",
      "failed\n",
      "failed\n",
      "failed\n",
      "failed\n",
      "failed\n",
      "failed\n",
      "failed\n",
      "failed\n",
      "failed\n",
      "failed\n",
      "failed\n",
      "failed\n",
      "failed\n",
      "failed\n",
      "failed\n",
      "failed\n",
      "failed\n",
      "failed\n",
      "failed\n",
      "failed\n",
      "failed\n",
      "failed\n",
      "failed\n",
      "failed\n",
      "failed\n",
      "failed\n",
      "failed\n",
      "failed\n",
      "failed\n",
      "failed\n",
      "failed\n",
      "failed\n",
      "failed\n",
      "failed\n",
      "failed\n",
      "failed\n",
      "failed\n",
      "failed\n",
      "failed\n",
      "failed\n",
      "failed\n",
      "failed\n",
      "failed\n",
      "failed\n",
      "failed\n",
      "failed\n",
      "failed\n",
      "failed\n",
      "failed\n",
      "failed\n",
      "failed\n",
      "failed\n",
      "failed\n",
      "failed\n",
      "failed\n",
      "failed\n",
      "failed\n",
      "failed\n",
      "failed\n",
      "failed\n",
      "failed\n",
      "failed\n",
      "failed\n",
      "failed\n",
      "failed\n",
      "failed\n",
      "failed\n",
      "failed\n",
      "failed\n",
      "failed\n",
      "failed\n",
      "failed\n",
      "failed\n",
      "failed\n",
      "failed\n",
      "failed\n",
      "failed\n",
      "failed\n",
      "failed\n",
      "failed\n",
      "failed\n",
      "failed\n",
      "failed\n",
      "failed\n",
      "failed\n",
      "failed\n",
      "failed\n",
      "failed\n",
      "failed\n",
      "failed\n",
      "failed\n",
      "failed\n",
      "failed\n",
      "failed\n",
      "failed\n",
      "failed\n",
      "failed\n",
      "failed\n",
      "failed\n",
      "failed\n",
      "failed\n",
      "failed\n",
      "failed\n",
      "failed\n",
      "failed\n",
      "failed\n",
      "failed\n",
      "failed\n",
      "failed\n",
      "failed\n",
      "failed\n",
      "failed\n",
      "failed\n",
      "failed\n",
      "failed\n",
      "failed\n",
      "failed\n",
      "failed\n",
      "failed\n",
      "failed\n",
      "failed\n",
      "failed\n",
      "failed\n",
      "failed\n",
      "failed\n",
      "failed\n",
      "failed\n",
      "failed\n",
      "failed\n",
      "failed\n",
      "failed\n",
      "failed\n",
      "failed\n",
      "failed\n",
      "failed\n",
      "failed\n",
      "failed\n",
      "failed\n",
      "failed\n",
      "failed\n",
      "failed\n",
      "failed\n",
      "failed\n",
      "failed\n",
      "failed\n",
      "failed\n",
      "failed\n",
      "failed\n",
      "failed\n",
      "failed\n",
      "failed\n",
      "failed\n",
      "failed\n",
      "failed\n",
      "failed\n",
      "failed\n",
      "failed\n",
      "failed\n",
      "failed\n",
      "failed\n",
      "failed\n",
      "failed\n",
      "failed\n",
      "failed\n",
      "failed\n",
      "failed\n",
      "failed\n",
      "failed\n",
      "failed\n",
      "failed\n",
      "failed\n",
      "failed\n",
      "failed\n",
      "failed\n",
      "failed\n",
      "failed\n",
      "failed\n",
      "failed\n",
      "failed\n",
      "failed\n",
      "failed\n",
      "failed\n",
      "failed\n",
      "failed\n",
      "failed\n",
      "failed\n",
      "failed\n",
      "failed\n",
      "failed\n",
      "failed\n",
      "failed\n",
      "failed\n",
      "failed\n",
      "failed\n",
      "failed\n",
      "failed\n",
      "failed\n",
      "failed\n",
      "failed\n",
      "failed\n",
      "failed\n",
      "failed\n",
      "failed\n",
      "failed\n",
      "failed\n",
      "failed\n",
      "failed\n",
      "failed\n",
      "failed\n",
      "failed\n",
      "failed\n",
      "failed\n",
      "failed\n",
      "failed\n",
      "failed\n",
      "failed\n",
      "failed\n",
      "failed\n",
      "failed\n",
      "failed\n",
      "failed\n",
      "failed\n",
      "failed\n",
      "failed\n",
      "failed\n",
      "failed\n",
      "failed\n",
      "failed\n",
      "failed\n",
      "failed\n",
      "failed\n",
      "failed\n",
      "failed\n",
      "failed\n",
      "failed\n",
      "failed\n",
      "failed\n",
      "failed\n",
      "failed\n",
      "failed\n",
      "failed\n",
      "failed\n",
      "failed\n",
      "failed\n",
      "failed\n",
      "failed\n",
      "failed\n",
      "failed\n",
      "failed\n",
      "failed\n",
      "failed\n",
      "failed\n",
      "failed\n",
      "failed\n",
      "failed\n",
      "failed\n",
      "failed\n",
      "failed\n",
      "failed\n",
      "failedfailed\n",
      "\n",
      "failedfailed\n",
      "\n",
      "failedfailed\n",
      "\n",
      "failedfailed\n",
      "\n",
      "failedfailed\n",
      "\n",
      "failedfailed\n",
      "\n",
      "failedfailed\n",
      "\n",
      "failedfailed\n",
      "\n",
      "failedfailed\n",
      "\n",
      "failedfailed\n",
      "\n",
      "failedfailed\n",
      "\n",
      "failedfailed\n",
      "\n",
      "failedfailed\n",
      "\n",
      "failedfailed\n",
      "\n",
      "failedfailed\n",
      "\n",
      "failedfailed\n",
      "\n",
      "failedfailed\n",
      "\n",
      "failedfailed\n",
      "\n",
      "failedfailed\n",
      "\n",
      "failedfailed\n",
      "\n",
      "failed\n",
      "failed\n",
      "failed\n",
      "failedfailed\n",
      "\n",
      "failed\n",
      "failed\n",
      "failed\n",
      "failed\n",
      "failedfailed\n",
      "\n",
      "failedfailed\n",
      "\n",
      "failedfailed\n",
      "\n",
      "failedfailed\n",
      "\n",
      "failedfailed\n",
      "\n",
      "failed\n",
      "failed\n",
      "failed\n",
      "failed\n",
      "failedfailed\n",
      "\n",
      "failedfailed\n",
      "\n",
      "failedfailed\n",
      "\n",
      "failedfailed\n",
      "\n",
      "failedfailed\n",
      "\n",
      "failedfailed\n",
      "\n",
      "failedfailed\n",
      "\n",
      "failedfailed\n",
      "\n",
      "failedfailed\n",
      "\n",
      "failedfailed\n",
      "\n",
      "failedfailed\n",
      "\n",
      "failedfailed\n",
      "\n",
      "failedfailed\n",
      "\n",
      "failedfailed\n",
      "\n",
      "failed\n",
      "failed\n",
      "failedfailed\n",
      "\n",
      "failedfailed\n",
      "\n",
      "failedfailed\n",
      "\n",
      "failed\n",
      "failedfailed\n",
      "failed\n",
      "\n",
      "failedfailed\n",
      "\n",
      "failedfailed\n",
      "\n",
      "failedfailed\n",
      "\n",
      "failed\n",
      "failedfailed\n",
      "\n",
      "failedfailed\n",
      "\n",
      "failedfailed\n",
      "\n",
      "failed\n",
      "failed\n",
      "failedfailed\n",
      "\n",
      "failedfailed\n",
      "\n",
      "failedfailed\n",
      "\n",
      "failedfailed\n",
      "\n",
      "failedfailed\n",
      "\n",
      "failedfailed\n",
      "\n",
      "failed\n",
      "failed\n",
      "failed\n",
      "failed\n",
      "failedfailed\n",
      "\n",
      "failed\n",
      "failedfailed\n",
      "\n",
      "failed\n",
      "failed\n",
      "failed\n",
      "failed\n",
      "failed\n",
      "failed\n",
      "failed\n",
      "failedfailed\n",
      "\n",
      "failed\n",
      "failed\n",
      "failedfailed\n",
      "\n",
      "failedfailed\n",
      "\n",
      "failedfailed\n",
      "\n",
      "failedfailed\n",
      "\n",
      "failedfailed\n",
      "\n",
      "failedfailed\n",
      "\n",
      "failedfailed\n",
      "\n",
      "failedfailed\n",
      "\n",
      "failedfailed\n",
      "\n",
      "failedfailed\n",
      "\n",
      "failedfailed\n",
      "\n",
      "failedfailed\n",
      "\n",
      "failedfailed\n",
      "\n",
      "failedfailed\n",
      "\n",
      "failedfailed\n",
      "\n",
      "failed\n",
      "failed\n",
      "failedfailed\n",
      "\n",
      "failedfailed\n",
      "\n",
      "failedfailed\n",
      "\n",
      "failedfailed\n",
      "\n",
      "failedfailed\n",
      "\n",
      "failed\n",
      "failed\n",
      "failed\n",
      "failed\n",
      "failed\n",
      "failed\n",
      "failed\n",
      "failed\n",
      "failedfailed\n",
      "\n",
      "failedfailed\n",
      "\n",
      "failedfailed\n",
      "\n",
      "failedfailed\n",
      "\n",
      "failedfailed\n",
      "\n",
      "failedfailed\n",
      "\n",
      "failedfailed\n",
      "\n",
      "failedfailed\n",
      "\n",
      "failedfailed\n",
      "\n",
      "failedfailed\n",
      "\n",
      "failedfailed\n",
      "\n",
      "failedfailed\n",
      "\n",
      "failedfailed\n",
      "\n",
      "failedfailed\n",
      "\n",
      "failedfailed\n",
      "\n",
      "failedfailed\n",
      "\n",
      "failedfailed\n",
      "\n",
      "failed\n",
      "failedfailed\n",
      "\n",
      "failedfailed\n",
      "\n",
      "failed\n",
      "failed\n",
      "failedfailed\n",
      "\n",
      "failedfailed\n",
      "\n",
      "failed\n",
      "failed\n",
      "failed\n",
      "failed\n",
      "failed\n",
      "failedfailed\n",
      "\n",
      "failedfailed\n",
      "\n",
      "failedfailed\n",
      "\n",
      "failed\n",
      "failed\n",
      "failed\n",
      "failed\n",
      "failed\n",
      "failed\n",
      "failed\n",
      "failed\n",
      "failed\n",
      "failed\n",
      "failed\n",
      "failed\n",
      "failedfailed\n",
      "\n",
      "failedfailed\n",
      "\n",
      "failedfailed\n",
      "\n",
      "failedfailed\n",
      "\n",
      "failedfailed\n",
      "\n",
      "failedfailed\n",
      "\n",
      "failedfailed\n",
      "\n",
      "failed\n",
      "failed\n",
      "failedfailed\n",
      "\n",
      "failed\n",
      "failed\n",
      "failed\n",
      "failedfailed\n",
      "\n",
      "failedfailed\n",
      "\n",
      "failed\n",
      "failed\n",
      "failed\n",
      "failed\n",
      "failed\n",
      "failed\n",
      "failed\n",
      "failed\n",
      "failed\n",
      "failed\n",
      "failed\n",
      "failedfailed\n",
      "\n",
      "failedfailed\n",
      "\n",
      "failedfailed\n",
      "\n",
      "failedfailed\n",
      "\n",
      "failedfailed\n",
      "\n",
      "failedfailed\n",
      "\n",
      "failed\n",
      "failedfailed\n",
      "\n",
      "failed\n",
      "failed\n",
      "failedfailed\n",
      "\n",
      "failedfailed\n",
      "\n",
      "failedfailed\n",
      "\n",
      "failedfailed\n",
      "\n",
      "failedfailed\n",
      "\n",
      "failedfailed\n",
      "\n",
      "failedfailed\n",
      "\n",
      "failedfailed\n",
      "\n",
      "failedfailed\n",
      "\n",
      "failed\n",
      "failed\n",
      "failed\n",
      "failed\n",
      "failed\n",
      "failed\n",
      "failedfailed\n",
      "\n",
      "failedfailed\n",
      "\n",
      "failedfailed\n",
      "\n",
      "failedfailed\n",
      "\n",
      "failedfailed\n",
      "\n",
      "failed\n",
      "failedfailed\n",
      "\n",
      "failed\n",
      "failed\n",
      "failedfailed\n",
      "\n",
      "failedfailed\n",
      "\n",
      "failed\n",
      "failed\n",
      "failed\n",
      "failedfailed\n",
      "\n",
      "failed\n",
      "failed\n",
      "failed\n",
      "failedfailed\n",
      "\n",
      "failedfailed\n",
      "\n",
      "failedfailed\n",
      "\n",
      "failedfailed\n",
      "\n",
      "failed\n",
      "failed\n",
      "failed\n",
      "failed\n",
      "failed\n",
      "failed\n",
      "failedfailed\n",
      "\n",
      "failedfailed\n",
      "\n",
      "failedfailed\n",
      "\n",
      "failedfailed\n",
      "\n",
      "failedfailed\n",
      "\n",
      "failedfailed\n",
      "\n",
      "failedfailed\n",
      "\n",
      "failedfailed\n",
      "\n",
      "failedfailed\n",
      "\n",
      "failedfailed\n",
      "\n",
      "failedfailed\n",
      "\n",
      "failedfailed\n",
      "\n",
      "failedfailed\n",
      "\n",
      "failedfailed\n",
      "\n",
      "failedfailed\n",
      "\n",
      "failedfailed\n",
      "\n",
      "failedfailed\n",
      "\n",
      "failedfailed\n",
      "\n",
      "failedfailed\n",
      "\n",
      "failedfailed\n",
      "\n",
      "failedfailed\n",
      "\n",
      "failedfailed\n",
      "\n",
      "failedfailed\n",
      "\n",
      "failedfailed\n",
      "\n",
      "failedfailed\n",
      "\n",
      "failedfailed\n",
      "\n",
      "failedfailed\n",
      "\n",
      "failedfailed\n",
      "\n",
      "failedfailed\n",
      "\n",
      "failedfailed\n",
      "\n",
      "failed\n",
      "failed\n",
      "failedfailed\n",
      "\n",
      "failedfailed\n",
      "\n",
      "failedfailed\n",
      "\n",
      "failedfailed\n",
      "\n",
      "failedfailed\n",
      "\n",
      "failedfailed\n",
      "\n",
      "failedfailed\n",
      "\n",
      "failedfailed\n",
      "\n",
      "failedfailed\n",
      "\n",
      "failedfailed\n",
      "\n",
      "failedfailed\n",
      "\n",
      "failedfailed\n",
      "\n",
      "failedfailed\n",
      "\n",
      "failedfailed\n",
      "\n",
      "failedfailed\n",
      "\n",
      "failedfailed\n",
      "\n",
      "failedfailed\n",
      "\n",
      "failedfailed\n",
      "\n",
      "failedfailed\n",
      "\n",
      "failedfailed\n",
      "\n",
      "failed\n",
      "failedfailed\n",
      "\n",
      "failed\n",
      "failed\n",
      "failed\n",
      "failedfailed\n",
      "\n",
      "failed\n",
      "failed\n",
      "failed\n",
      "failedfailed\n",
      "\n",
      "failedfailed\n",
      "\n",
      "failedfailed\n",
      "\n",
      "failedfailed\n",
      "\n",
      "failedfailed\n",
      "\n",
      "failed\n",
      "failedfailed\n",
      "\n",
      "failedfailed\n",
      "\n",
      "failedfailed\n",
      "\n",
      "failedfailed\n",
      "\n",
      "failedfailed\n",
      "\n",
      "failedfailed\n",
      "\n",
      "failedfailed\n",
      "\n",
      "failed\n",
      "failedfailed\n",
      "\n",
      "failedfailed\n",
      "\n",
      "failedfailed\n",
      "\n",
      "failed\n",
      "failed\n",
      "failedfailed\n",
      "\n",
      "failedfailed\n",
      "\n",
      "failedfailed\n",
      "\n",
      "failedfailed\n",
      "\n",
      "failed\n",
      "failed\n",
      "failed\n",
      "failed\n",
      "failedfailed\n",
      "\n",
      "failedfailed\n",
      "\n",
      "failedfailed\n",
      "\n",
      "failed\n",
      "failedfailed\n",
      "\n",
      "failedfailed\n",
      "\n",
      "failed\n",
      "failedfailed\n",
      "\n",
      "failedfailed\n",
      "\n",
      "failedfailed\n",
      "\n",
      "failedfailed\n",
      "\n",
      "failed\n",
      "failed\n",
      "failedfailed\n",
      "\n",
      "failed\n",
      "failed\n",
      "failed\n",
      "failedfailed\n",
      "\n",
      "failed\n",
      "failed\n",
      "failedfailed\n",
      "\n",
      "failedfailed\n",
      "\n",
      "failedfailed\n",
      "\n",
      "failedfailed\n",
      "\n",
      "failedfailed\n",
      "\n",
      "failedfailed\n",
      "\n",
      "failedfailed\n",
      "\n",
      "failedfailed\n",
      "\n",
      "failedfailed\n",
      "\n",
      "failedfailed\n",
      "\n",
      "failedfailed\n",
      "\n",
      "failedfailed\n",
      "\n",
      "failedfailed\n",
      "\n",
      "failedfailed\n",
      "\n",
      "failedfailed\n",
      "\n",
      "failedfailed\n",
      "\n",
      "failedfailed\n",
      "\n",
      "failedfailed\n",
      "\n",
      "failedfailed\n",
      "\n",
      "failedfailed\n",
      "\n",
      "failedfailed\n",
      "\n",
      "failedfailed\n",
      "\n",
      "failedfailed"
     ]
    }
   ],
   "source": [
    "numParticles=1_000_000\n",
    "t=time.time()\n",
    "with mp.Pool(10) as pool:\n",
    "    particleList0=pool.map(trace,data[:numParticles])\n",
    "# particleList0=[trace(X) for X in data]\n",
    "particleList=[]\n",
    "for particle in particleList0:\n",
    "    if particle is not None:\n",
    "        particleList.append(particle)\n",
    "print('t',time.time()-t)\n",
    "print('survival:',1e2*len(particleList)/len(particleList0)) #.234 with collision\n",
    "print('num survived:', len(particleList))\n",
    "swarmTraced=Swarm()\n",
    "swarmTraced.particles=particleList\n",
    "interpFunction=Interpolater(swarmTraced,PTL)\n",
    "# PTL.show_Lattice(swarm=swarmTraced,showTraceLines=True,trueAspectRatio=False)"
   ],
   "metadata": {
    "collapsed": false,
    "pycharm": {
     "name": "#%%\n",
     "is_executing": true
    }
   }
  },
  {
   "cell_type": "code",
   "execution_count": 12,
   "outputs": [
    {
     "data": {
      "text/plain": "[array([-0.00296191,  0.00590246, -0.00061552]),\n array([-0.00488723,  0.00512271, -0.00117018]),\n array([-0.0053297 ,  0.00490108, -0.00124155]),\n array([-0.00621737,  0.00418943, -0.00111058]),\n array([-0.00640637,  0.00405025, -0.00109575]),\n array([-0.00662295,  0.003885  , -0.00108324]),\n array([-0.00709162,  0.00376251, -0.0011034 ]),\n array([-0.00817406,  0.0035043 , -0.00115025]),\n array([-0.00987486,  0.00384713, -0.00105744]),\n array([-0.01160676,  0.00359612, -0.00105862]),\n array([-0.01906167,  0.00275962, -0.00128376]),\n array([-0.02204429,  0.00244125, -0.00123248]),\n array([-0.02630945,  0.00189572, -0.00126129]),\n array([-0.02784328,  0.00167763, -0.00121329]),\n array([-0.0288439 ,  0.00170417, -0.00119207]),\n array([-0.04030113,  0.00216574, -0.00118586]),\n array([-0.04631192,  0.00245887, -0.00125889]),\n array([-0.04780198,  0.00255033, -0.00128941])]"
     },
     "execution_count": 12,
     "metadata": {},
     "output_type": "execute_result"
    }
   ],
   "source": [
    "#use the particles that have a history of their collisions\n",
    "\n",
    "swarmTraced=Swarm()\n",
    "for particle,qPast in zip(particleList0,qPastList):\n",
    "    if particle is not None:\n",
    "        particleNew=particle.copy()\n",
    "        particleNew.qArr=np.row_stack((qPast,particleNew.qArr))\n",
    "        newColList=list(qPast)\n",
    "        newColList.extend(particleNew.collisionListLabCoords)\n",
    "        particleNew.collisionListLabCoords=newColList\n",
    "        swarmTraced.particles.append(particleNew)\n",
    "swarmTraced.particles[0].collisionListLabCoords"
   ],
   "metadata": {
    "collapsed": false,
    "pycharm": {
     "name": "#%%\n"
    }
   }
  },
  {
   "cell_type": "code",
   "execution_count": 13,
   "outputs": [],
   "source": [
    "import dill\n",
    "file=open('tracedParticles','wb')\n",
    "dill.dump(swarmTraced,file)"
   ],
   "metadata": {
    "collapsed": false,
    "pycharm": {
     "name": "#%%\n"
    }
   }
  },
  {
   "cell_type": "markdown",
   "source": [
    "### flourescence signal function"
   ],
   "metadata": {
    "collapsed": false,
    "pycharm": {
     "name": "#%% md\n"
    }
   }
  },
  {
   "cell_type": "code",
   "source": [
    "#function that used interpolation to get simulated flourescence signal\n",
    "# def get_Floursence_Signal(x,binNum=100,maxRadius=np.inf,vTMax=np.inf,fracCutoff=1.0):\n",
    "    #given an x, return the signal that we would collect with a laser. Sensitive to binNum\n",
    "    # yArr,zArr=interpFunction(x,maxRadius=maxRadius,vTMax=vTMax)\n",
    "    # rArr=np.sqrt(yArr**2+zArr**2)\n",
    "    # rArr=np.sort(rArr)\n",
    "    # rArr=rArr[:int(len(rArr)*fracCutoff-1)]\n",
    "    # rArr=rArr[rArr<maxRadius]\n",
    "    # A=np.pi*rArr.max()**2\n",
    "    # dA=A/binNum\n",
    "    # areaArr=(np.arange(binNum)+1)*dA\n",
    "    # rEdgeArr=np.sqrt(areaArr/np.pi)\n",
    "    # rBinCenterArr=np.append(0.0,(rEdgeArr[1:]+rEdgeArr[:-1])/2)\n",
    "    # rBinEdgeArr=np.append(0,rEdgeArr)\n",
    "    # binVals=np.histogram(rArr,rBinEdgeArr)[0]\n",
    "    # return rBinCenterArr,binVals\n",
    "def get_Floursence_Signal(x,binNum=30,maxRadius=np.inf,vTMax=np.inf,fracCutoff=1.0):\n",
    "#     given an x, return the signal that we would collect with a laser. Sensitive to binNum\n",
    "    yArr,zArr=interpFunction(x,maxRadius=maxRadius,vTMax=vTMax)\n",
    "    rArr=np.sqrt(yArr**2+zArr**2)\n",
    "    rArr=np.sort(rArr)\n",
    "    rArr=rArr[:int(len(rArr)*fracCutoff-1)]\n",
    "    rArr=rArr[rArr<maxRadius]\n",
    "    rBinEdgeArr=np.linspace(0.0,rArr.max(),binNum+1)\n",
    "    rBinCenterArr=np.append(0.0,(rBinEdgeArr[2:]+rBinEdgeArr[1:-1])/2)\n",
    "    binVals=np.histogram(rArr,rBinEdgeArr)[0]\n",
    "    areaArr=np.pi*rBinEdgeArr**2\n",
    "    rWeight=areaArr[1:]-areaArr[:-1]\n",
    "    binVals=binVals/rWeight\n",
    "    return rBinCenterArr,binVals\n",
    "# x,y=get_Floursence_Signal(1.76,binNum=30,maxRadius=10)\n",
    "# plt.scatter(x,y)\n",
    "# plt.show()"
   ],
   "outputs": [],
   "execution_count": 39,
   "metadata": {
    "collapsed": true,
    "jupyter": {
     "source_hidden": false,
     "outputs_hidden": false
    },
    "nteract": {
     "transient": {
      "deleting": false
     }
    },
    "execution": {
     "iopub.status.busy": "2021-12-13T18:56:59.515Z",
     "iopub.execute_input": "2021-12-13T18:56:59.519Z",
     "iopub.status.idle": "2021-12-13T18:56:59.528Z",
     "shell.execute_reply": "2021-12-13T18:56:59.532Z"
    }
   }
  },
  {
   "cell_type": "markdown",
   "source": [
    "## Analyze by flux in a circle of set diameter"
   ],
   "metadata": {
    "nteract": {
     "transient": {
      "deleting": false
     }
    }
   }
  },
  {
   "cell_type": "code",
   "source": [
    "#don't attempt this on huge numbers of particles. Use a smaller number here like 100,000\n",
    "from joblib import Parallel,delayed\n",
    "import multiprocess\n",
    "import scipy.interpolate as spi\n",
    "\n",
    "#find circle of least confusion location\n",
    "swarmTestMin=Swarm()\n",
    "swarmTestMin.particles=swarmTraced.particles[:100_000]\n",
    "interpFunctionMin=Interpolater(swarmTestMin,PTL)\n",
    "xArr=np.linspace(xMin+1e-3,xMax-1e-3,300)\n",
    "vTMax=20.0 #only include particles with this maximum transverse speed\n",
    "\n",
    "def atomsInCircle(x,maxRadius=5):\n",
    "  xCoords,yCoords=interpFunctionMin(x,maxRadius=maxRadius,vTMax=vTMax)\n",
    "  r=np.sqrt(xCoords**2+yCoords**2)\n",
    "  numParticles=len(r)\n",
    "  return numParticles\n",
    "\n",
    "multiprocess.set_start_method('fork',force=True)\n",
    "t=time.time()\n",
    "with multiprocess.Pool(10) as pool:\n",
    "    fluxArr=np.asarray(pool.map(atomsInCircle,xArr))\n",
    "interpFunc=spi.RBFInterpolator(xArr[:,np.newaxis],fluxArr)\n",
    "  \n",
    "\n",
    "xArrDense=np.linspace(xArr[0],xArr[-1],10000)\n",
    "yArrDense=interpFunc(xArrDense[:,np.newaxis])\n",
    "\n",
    "xMaxSig=xArrDense[np.argmax(yArrDense)]\n",
    "\n",
    "\n",
    "\n",
    "plt.plot(xArr,fluxArr)\n",
    "# plt.plot(xArrDense,yArrDense,c='r')\n",
    "plt.show()\n",
    "xMaxSig"
   ],
   "outputs": [
    {
     "data": {
      "text/plain": "<Figure size 432x288 with 1 Axes>",
      "image/png": "[encoded data removed]"
     },
     "metadata": {
      "needs_background": "light"
     },
     "output_type": "display_data"
    },
    {
     "data": {
      "text/plain": "1.7217356285628567"
     },
     "execution_count": 40,
     "metadata": {},
     "output_type": "execute_result"
    }
   ],
   "execution_count": 40,
   "metadata": {
    "collapsed": true,
    "jupyter": {
     "source_hidden": false,
     "outputs_hidden": false
    },
    "nteract": {
     "transient": {
      "deleting": false
     }
    },
    "execution": {
     "iopub.status.busy": "2021-12-13T19:03:41.467Z",
     "iopub.execute_input": "2021-12-13T19:03:41.477Z",
     "iopub.status.idle": "2021-12-13T19:03:46.868Z",
     "shell.execute_reply": "2021-12-13T19:03:46.884Z"
    }
   }
  },
  {
   "cell_type": "markdown",
   "source": [
    "# Analyze by circle of least confusion"
   ],
   "metadata": {
    "nteract": {
     "transient": {
      "deleting": false
     }
    }
   }
  },
  {
   "cell_type": "code",
   "source": [
    "#don't attempt this on huge numbers of particles. Use a smaller number here like 100,000\n",
    "from joblib import Parallel,delayed\n",
    "import multiprocess\n",
    "import scipy.interpolate as spi\n",
    "\n",
    "#find circle of least confusion location\n",
    "swarmTestMin=Swarm()\n",
    "swarmTestMin.particles=swarmTraced.particles[:100_000]\n",
    "interpFunctionMin=Interpolater(swarmTestMin,PTL)\n",
    "xArr=np.linspace(xMin+1e-3,xMax-1e-3,300)\n",
    "frac=.9 #fraction to define circle\n",
    "vTMax=20.0 #only include particles with this maximum transverse speed\n",
    "maxRadius=100  # mm\n",
    "\n",
    "def circleRadius(x):\n",
    "  xCoords,yCoords=interpFunctionMin(x,vTMax=vTMax,maxRadius=maxRadius)\n",
    "  r=np.sqrt(xCoords**2+yCoords**2)\n",
    "#   return np.std(r)\n",
    "  r=np.sort(r)\n",
    "  assert len(r)>10 \n",
    "#   print(int(frac*len(r)))\n",
    "  rCutoff=r[int(frac*len(r))]\n",
    "  return rCutoff\n",
    "\n",
    "t=time.time()\n",
    "with multiprocess.Pool(10) as pool:\n",
    "    circleRadiusArr=np.asarray(pool.map(circleRadius,xArr))\n",
    "interpFunc=spi.RBFInterpolator(xArr[:,np.newaxis],circleRadiusArr)\n",
    "  \n",
    "\n",
    "xArrDense=np.linspace(xArr[0],xArr[-1],10000)\n",
    "yArrDense=interpFunc(xArrDense[:,np.newaxis])\n",
    "\n",
    "\n",
    "plt.plot(xArr,circleRadiusArr)\n",
    "# plt.plot(xArrDense,yArrDense,c='r')\n",
    "plt.show()\n",
    "\n"
   ],
   "outputs": [
    {
     "data": {
      "text/plain": "<Figure size 432x288 with 1 Axes>",
      "image/png": "[encoded data removed]"
     },
     "metadata": {
      "needs_background": "light"
     },
     "output_type": "display_data"
    }
   ],
   "execution_count": 41,
   "metadata": {
    "collapsed": true,
    "jupyter": {
     "source_hidden": false,
     "outputs_hidden": false
    },
    "nteract": {
     "transient": {
      "deleting": false
     }
    },
    "execution": {
     "iopub.status.busy": "2021-12-13T19:00:03.512Z",
     "iopub.execute_input": "2021-12-13T19:00:03.522Z",
     "iopub.status.idle": "2021-12-13T19:00:05.798Z",
     "shell.execute_reply": "2021-12-13T19:00:05.814Z"
    }
   }
  },
  {
   "cell_type": "code",
   "source": [
    "#plot what the focus looks like\n",
    "# %matplotlib tk\n",
    "yArr,zArr=interpFunction(xMaxSig)\n",
    "rArr=np.sqrt(yArr**2+zArr**2)\n",
    "rMax=10 #mm\n",
    "yArr=yArr[rArr<rMax]\n",
    "zArr=zArr[rArr<rMax]\n",
    "image,yBins,zBins=np.histogram2d(yArr,zArr,bins=100)\n",
    "print(int(image.sum()),image.max()) \n",
    "image=image/image.max()     \n",
    "\n",
    "yMin=yBins[0]+(yBins[1]-yBins[0])/2\n",
    "yMax=yBins[-1]-(yBins[1]-yBins[0])/2\n",
    "zMin=zBins[0]+(zBins[1]-zBins[0])/2\n",
    "zMax=zBins[-1]-(zBins[1]-zBins[0])/2\n",
    "plt.figure(dpi=100)\n",
    "plt.imshow(image,extent=[zMin,zMax,yMin,yMax],cmap='hot')#,interpolation='bicubic')#,vmin=0.0,vmax=25.6/10.0)\n",
    "plt.xlabel('mm',fontsize=18)\n",
    "plt.ylabel('mm',fontsize=18)\n",
    "plt.xticks(fontsize=18)\n",
    "plt.yticks(fontsize=18)\n",
    "bar=plt.colorbar()\n",
    "bar.ax.tick_params(labelsize=18)\n",
    "plt.tight_layout()\n",
    "plt.savefig('focusImage_CircleOfLeastConfusion')\n",
    "plt.show()\n"
   ],
   "outputs": [
    {
     "name": "stdout",
     "output_type": "stream",
     "text": [
      "4945 14.0\n"
     ]
    },
    {
     "data": {
      "text/plain": "<Figure size 600x400 with 2 Axes>",
      "image/png": "[encoded data removed]"
     },
     "metadata": {
      "needs_background": "light"
     },
     "output_type": "display_data"
    }
   ],
   "execution_count": 42,
   "metadata": {
    "collapsed": true,
    "jupyter": {
     "source_hidden": false,
     "outputs_hidden": false
    },
    "nteract": {
     "transient": {
      "deleting": false
     }
    },
    "execution": {
     "iopub.status.busy": "2021-12-13T19:03:59.769Z",
     "iopub.execute_input": "2021-12-13T19:03:59.810Z",
     "iopub.status.idle": "2021-12-13T19:04:00.053Z",
     "shell.execute_reply": "2021-12-13T19:04:00.069Z"
    }
   }
  },
  {
   "cell_type": "code",
   "source": [
    "#plot flourescence signal at circle of least confusion\n",
    "r,signal=get_Floursence_Signal(xMaxSig,maxRadius=10,binNum=20)\n",
    "\n",
    "rLeastConfuse=circleRadius(xMaxSig)\n",
    "# plt.figure(dpi=150)\n",
    "plt.scatter(r,signal)\n",
    "plt.xlabel('radial position, mm')\n",
    "plt.ylabel('relative intensity')\n",
    "\n",
    "# plt.axvline(x=rLeastConfuse,c='black',linestyle=':')\n",
    "# plt.savefig(\"focusIntensity_CircleOfLeastConfusion\")\n",
    "plt.show()"
   ],
   "outputs": [
    {
     "data": {
      "text/plain": "<Figure size 432x288 with 1 Axes>",
      "image/png": "[encoded data removed]"
     },
     "metadata": {
      "needs_background": "light"
     },
     "output_type": "display_data"
    }
   ],
   "execution_count": 43,
   "metadata": {
    "collapsed": true,
    "jupyter": {
     "source_hidden": false,
     "outputs_hidden": false
    },
    "nteract": {
     "transient": {
      "deleting": false
     }
    },
    "execution": {
     "iopub.status.busy": "2021-12-13T19:01:10.655Z",
     "iopub.execute_input": "2021-12-13T19:01:10.695Z",
     "iopub.status.idle": "2021-12-13T19:01:10.931Z",
     "shell.execute_reply": "2021-12-13T19:01:10.953Z"
    }
   }
  },
  {
   "cell_type": "markdown",
   "source": [
    "# Analyze by voigt fit"
   ],
   "metadata": {
    "nteract": {
     "transient": {
      "deleting": false
     }
    }
   }
  },
  {
   "cell_type": "markdown",
   "source": [
    "### helper functions for voigt fitting"
   ],
   "metadata": {
    "nteract": {
     "transient": {
      "deleting": false
     }
    }
   }
  },
  {
   "cell_type": "code",
   "execution_count": 44,
   "outputs": [
    {
     "data": {
      "text/plain": "<Figure size 432x288 with 1 Axes>",
      "image/png": "[encoded data removed]"
     },
     "metadata": {
      "needs_background": "light"
     },
     "output_type": "display_data"
    }
   ],
   "source": [
    "from scipy.special import voigt_profile\n",
    "from scipy.optimize import curve_fit,differential_evolution\n",
    "@np.vectorize\n",
    "def voigt(r,a,b,sigma,gamma):\n",
    "  #be very cautious about FWHM vs HWHM here for gamma. gamma for scipy is HWHM per the docs\n",
    "  assert r>=0\n",
    "  v0=voigt_profile(0,sigma,gamma)\n",
    "  v=voigt_profile(r,sigma,gamma)/v0\n",
    "  v=a*v+b\n",
    "  return v\n",
    "\n",
    "def fit_Signal_At_x(x,binNum=100,maxRadius=np.inf):\n",
    "  r,signal=get_Floursence_Signal(x,binNum=binNum,maxRadius=maxRadius)\n",
    "  guess=[signal.max(),signal.min(),1.0,1.0]\n",
    "  bounds=[(0.0),(np.inf)]\n",
    "  params=curve_fit(voigt,r,signal,p0=guess,bounds=bounds)[0]\n",
    "  return params\n",
    "def get_FWHM_At_x(x,binNum=200,maxRadius=np.inf):\n",
    "  #be very cautious about FWHM vs HWHM here for gamma\n",
    "  params=fit_Signal_At_x(x,maxRadius=maxRadius,binNum=binNum)\n",
    "  sigma=params[2]\n",
    "  gamma=params[3]\n",
    "  fL=2*gamma\n",
    "  fG=2*sigma*np.sqrt(2*np.log(2)) #np.log is natural logarithm\n",
    "  FWHM=.5346*fL+np.sqrt(.2166*fL**2 + fG**2)\n",
    "  return FWHM\n",
    "def plot_Fit_At_x(x,binNum=200,maxRadius=np.inf):\n",
    "  r,signal=get_Floursence_Signal(x,binNum=binNum,maxRadius=maxRadius)\n",
    "  FWHM=get_FWHM_At_x(x,binNum=binNum,maxRadius=maxRadius)\n",
    "  params=fit_Signal_At_x(x,binNum=binNum,maxRadius=maxRadius)\n",
    "  # print('fwhm:',FWHM,'num particles:', np.sum(signal))#,voigt(FWHM/2,*params)/voigt(0,*params))\n",
    "  plt.title('Simulated signal and voigt fit\\n FWHM='+str(np.round(FWHM,1))+'mm. Nozzle distance='+str(int(1e2*x))+'cm')\n",
    "  plt.scatter(r,signal,c='red',label='Simulated signal')\n",
    "  rPlot=np.linspace(0.0,r.max(),10_000)\n",
    "  plt.plot(rPlot,voigt(rPlot,*params),label='fit')\n",
    "  plt.axvline(x=FWHM/2,c='black')\n",
    "  plt.xlabel('Radial distance from centerline, mm')\n",
    "  plt.ylabel('Signal, au')\n",
    "  plt.legend()\n",
    "  plt.show()\n",
    "plot_Fit_At_x(1.82,maxRadius=10,binNum=20)"
   ],
   "metadata": {
    "collapsed": false,
    "pycharm": {
     "name": "#%%\n"
    }
   }
  },
  {
   "cell_type": "code",
   "execution_count": 45,
   "outputs": [
    {
     "data": {
      "text/plain": "<Figure size 432x288 with 1 Axes>",
      "image/png": "[encoded data removed]"
     },
     "metadata": {
      "needs_background": "light"
     },
     "output_type": "display_data"
    },
    {
     "data": {
      "text/plain": "<Figure size 432x288 with 1 Axes>",
      "image/png": "[encoded data removed]"
     },
     "metadata": {
      "needs_background": "light"
     },
     "output_type": "display_data"
    },
    {
     "name": "stdout",
     "output_type": "stream",
     "text": [
      "atom in 1 cm circle at min fwhm 4688\n"
     ]
    }
   ],
   "source": [
    "import multiprocess as mp\n",
    "rMax=10\n",
    "binNum=20\n",
    "xFWHMArr=np.linspace(1.6,1.9,50)\n",
    "with mp.Pool(10) as pool:\n",
    "    wrapper=lambda x:get_FWHM_At_x(x,maxRadius=rMax,binNum=binNum)\n",
    "    FWHMArr=np.asarray(pool.map(wrapper,xFWHMArr))\n",
    "FWHMxMin=xFWHMArr[np.argmin(FWHMArr)]\n",
    "\n",
    "plt.scatter(1e2*xFWHMArr,FWHMArr)\n",
    "plt.xlabel('Distance from nozzle, cm')\n",
    "plt.ylabel('FWHM, mm')\n",
    "plt.show()\n",
    "\n",
    "\n",
    "plot_Fit_At_x(FWHMxMin,maxRadius=rMax,binNum=binNum)\n",
    "print('atom in 1 cm circle at min fwhm',atomsInCircle(FWHMxMin,maxRadius=rMax))"
   ],
   "metadata": {
    "collapsed": false,
    "pycharm": {
     "name": "#%%\n"
    }
   }
  },
  {
   "cell_type": "markdown",
   "source": [
    "# analyze by fit to Voigt CDF"
   ],
   "metadata": {
    "nteract": {
     "transient": {
      "deleting": false
     }
    }
   }
  },
  {
   "cell_type": "code",
   "source": [
    "@np.vectorize\n",
    "def voigt_CDF(r,rMax,numParticles,b,sigma,gamma):\n",
    "  rIntPath=np.linspace(0,r,100)\n",
    "  CDF=np.trapz(voigt(rIntPath,1,b,sigma,gamma)*rIntPath,x=rIntPath)\n",
    "  r0IntPath=np.linspace(0,rMax,100)\n",
    "  CDF0=np.trapz(voigt(r0IntPath,1,b,sigma,gamma)*r0IntPath,x=r0IntPath)\n",
    "  return numParticles*CDF/CDF0\n",
    "# voigt_CDF=np.vectorize(voigt_CDF)\n",
    "def fit_Voigt_CDF(x,return_FitHelpers=False,maxRadius=np.inf,vTMax=np.inf):\n",
    "  yArr,zArr=interpFunction(x,maxRadius=maxRadius)\n",
    "  rArr=np.sqrt(yArr**2+zArr**2)\n",
    "  particleHist,rBins=np.histogram(rArr,bins=100)\n",
    "  dr=rBins[1]-rBins[0]\n",
    "  rPosArr=np.linspace(0,len(particleHist)*dr,len(particleHist))+dr/2\n",
    "  CDF=np.cumsum(particleHist)\n",
    "  voigt_CDF_Fit_Func=lambda r,sigma,gamma: voigt_CDF(r,rPosArr.max(),CDF.max(),0,sigma,gamma)\n",
    "  bounds=[0,np.inf]\n",
    "  guess=[1.0,1.0] #sigma,gamma\n",
    "  params=curve_fit(voigt_CDF_Fit_Func,rPosArr,CDF,p0=guess,bounds=bounds)[0] #[sigma, gamma]\n",
    "  if return_FitHelpers==True:\n",
    "      return params,rPosArr,CDF,voigt_CDF_Fit_Func\n",
    "  else:\n",
    "    return params\n",
    "def calculate_FWHM_From_Gamma_And_Sigma(sigma,gamma):\n",
    "    assert gamma>=0 and sigma>=0\n",
    "    fL=2*gamma\n",
    "    fG=2*sigma*np.sqrt(2*np.log(2)) #np.log is natural logarithm\n",
    "    FWHM=.5346*fL+np.sqrt(.2166*fL**2 + fG**2)\n",
    "    return FWHM\n",
    "def get_FWHM_At_x_From_CDF(x,maxRadius=maxRadius,vTMax=vTMax):\n",
    "  #be very cautious about FWHM vs HWHM here for gamma\n",
    "    try:\n",
    "        sigma,gamma=fit_Voigt_CDF(x,maxRadius=maxRadius,vTMax=vTMax)\n",
    "    except:\n",
    "        sigma,gamma=np.nan,np.nan\n",
    "    return calculate_FWHM_From_Gamma_And_Sigma(sigma,gamma)\n",
    "def plot_Voigt_CDF_Fit(x,maxRadius=np.inf,vTMax=np.inf):\n",
    "  params,rPosArr,CDF,fitFunc=fit_Voigt_CDF(x,return_FitHelpers=True,maxRadius=maxRadius,vTMax=vTMax)\n",
    "  sigma,gamma=params\n",
    "  FWHM=calculate_FWHM_From_Gamma_And_Sigma(sigma,gamma)\n",
    "  plt.title('Simulated signal and voigt CDF fit\\n FWHM='+str(np.round(FWHM,1))+'mm. Nozzle distance='+str(int(1e2*x))+'cm')\n",
    "  plt.plot(rPosArr,CDF,label='exp',c='r')\n",
    "  plt.plot(rPosArr,fitFunc(rPosArr,*params),label='fit')\n",
    "  plt.legend()\n",
    "  plt.xlabel('Radial distance from centerline, mm')\n",
    "  plt.ylabel('Signal, au')\n",
    "  plt.show()\n",
    "maxRadius=10\n",
    "vTMax=30\n",
    "plot_Voigt_CDF_Fit(1.76,maxRadius=maxRadius,vTMax=vTMax)\n",
    "get_FWHM_At_x_From_CDF(xMaxSig,maxRadius=maxRadius,vTMax=vTMax)\n",
    "                    "
   ],
   "outputs": [
    {
     "data": {
      "text/plain": "<Figure size 432x288 with 1 Axes>",
      "image/png": "[encoded data removed]"
     },
     "metadata": {
      "needs_background": "light"
     },
     "output_type": "display_data"
    },
    {
     "data": {
      "text/plain": "4.04854205485336"
     },
     "execution_count": 377,
     "metadata": {},
     "output_type": "execute_result"
    }
   ],
   "execution_count": 377,
   "metadata": {
    "collapsed": true,
    "jupyter": {
     "source_hidden": false,
     "outputs_hidden": false
    },
    "nteract": {
     "transient": {
      "deleting": false
     }
    },
    "execution": {
     "iopub.status.busy": "2021-12-13T19:06:42.940Z",
     "iopub.execute_input": "2021-12-13T19:06:42.949Z",
     "iopub.status.idle": "2021-12-13T19:06:46.890Z",
     "shell.execute_reply": "2021-12-13T19:06:46.903Z"
    }
   }
  },
  {
   "cell_type": "code",
   "source": [
    "import multiprocess as mp\n",
    "xFWHMArr=np.linspace(1.6,1.9,30)\n",
    "rMax=10\n",
    "with mp.Pool(10) as pool:\n",
    "    wrapper=lambda x:get_FWHM_At_x_From_CDF(x,maxRadius=rMax)\n",
    "    FWHMArr=np.asarray(pool.map(wrapper,xFWHMArr))\n",
    "FWHMxMin=xFWHMArr[np.argmin(FWHMArr)]\n",
    "\n",
    "plt.scatter(1e2*xFWHMArr,FWHMArr)\n",
    "plt.xlabel('Distance from nozzle, cm')\n",
    "plt.ylabel('FWHM, mm')\n",
    "plt.show()\n",
    "#2.3, 177\n",
    "\n",
    "plot_Fit_At_x(FWHMxMin,maxRadius=rMax)\n",
    "plot_Voigt_CDF_Fit(FWHMxMin,maxRadius=rMax)\n",
    "print('atom in 1 cm circle at min fwhm',atomsInCircle(FWHMxMin,maxRadius=rMax))"
   ],
   "outputs": [
    {
     "data": {
      "text/plain": "<Figure size 432x288 with 1 Axes>",
      "image/png": "[encoded data removed]"
     },
     "metadata": {
      "needs_background": "light"
     },
     "output_type": "display_data"
    },
    {
     "data": {
      "text/plain": "<Figure size 432x288 with 1 Axes>",
      "image/png": "[encoded data removed]"
     },
     "metadata": {
      "needs_background": "light"
     },
     "output_type": "display_data"
    },
    {
     "data": {
      "text/plain": "<Figure size 432x288 with 1 Axes>",
      "image/png": "[encoded data removed]"
     },
     "metadata": {
      "needs_background": "light"
     },
     "output_type": "display_data"
    },
    {
     "name": "stdout",
     "output_type": "stream",
     "text": [
      "atom in 1 cm circle at min fwhm 31111\n"
     ]
    }
   ],
   "execution_count": 378,
   "metadata": {
    "collapsed": true,
    "jupyter": {
     "source_hidden": false,
     "outputs_hidden": false
    },
    "nteract": {
     "transient": {
      "deleting": false
     }
    },
    "execution": {
     "iopub.status.busy": "2021-12-13T19:04:22.360Z",
     "iopub.execute_input": "2021-12-13T19:04:22.368Z",
     "shell.execute_reply": "2021-12-13T19:04:33.561Z",
     "iopub.status.idle": "2021-12-13T19:04:33.544Z"
    }
   }
  },
  {
   "cell_type": "markdown",
   "source": [
    "### analysis of velocity(spectral) distribution"
   ],
   "metadata": {
    "collapsed": false,
    "pycharm": {
     "name": "#%% md\n"
    }
   }
  },
  {
   "cell_type": "code",
   "execution_count": 379,
   "outputs": [
    {
     "data": {
      "text/plain": "<Figure size 432x288 with 1 Axes>",
      "image/png": "[encoded data removed]"
     },
     "metadata": {
      "needs_background": "light"
     },
     "output_type": "display_data"
    }
   ],
   "source": [
    "yArr,zArr,pArr=interpFunction(FWHMxMin,returnP=True)\n",
    "\n",
    "yCoord=1.0 #mm\n",
    "boxWidth=1. #mm\n",
    "waist=1.0 #mm\n",
    "particlesIndices=np.logical_and(yArr<yCoord+boxWidth/2,yArr>yCoord-boxWidth/2)\n",
    "particlesIndices=np.logical_and(particlesIndices,zArr<waist/2)\n",
    "particlesIndices=np.logical_and(particlesIndices,zArr>-waist/2)\n",
    "yArr=yArr[particlesIndices]\n",
    "zArr=zArr[particlesIndices]\n",
    "pArr=pArr[particlesIndices]\n",
    "plt.hist(pArr[:,2],bins=30)\n",
    "plt.show()\n"
   ],
   "metadata": {
    "collapsed": false,
    "pycharm": {
     "name": "#%%\n"
    }
   }
  },
  {
   "cell_type": "markdown",
   "source": [
    "### fit gaussian profile to signal"
   ],
   "metadata": {
    "collapsed": false,
    "pycharm": {
     "name": "#%% md\n"
    }
   }
  },
  {
   "cell_type": "code",
   "execution_count": 380,
   "outputs": [
    {
     "data": {
      "text/plain": "<Figure size 432x288 with 1 Axes>",
      "image/png": "[encoded data removed]"
     },
     "metadata": {
      "needs_background": "light"
     },
     "output_type": "display_data"
    }
   ],
   "source": [
    "yArr,zArr,pArr=interpFunction(FWHMxMin,returnP=True,maxRadius=5)\n",
    "pArr=pArr[pArr[:,0]<-195]\n",
    "\n",
    "signal,binEdges=np.histogram(pArr[:,0],bins=30)\n",
    "vArr=binEdges[:-1]+(binEdges[-1]-binEdges[-2])/2 #velocity, m/s\n",
    "signal=signal/signal.max()\n",
    "plt.scatter(vArr,signal)\n",
    "plt.show()"
   ],
   "metadata": {
    "collapsed": false,
    "pycharm": {
     "name": "#%%\n"
    }
   }
  },
  {
   "cell_type": "code",
   "execution_count": 381,
   "outputs": [
    {
     "data": {
      "text/plain": "<Figure size 432x288 with 1 Axes>",
      "image/png": "[encoded data removed]"
     },
     "metadata": {
      "needs_background": "light"
     },
     "output_type": "display_data"
    },
    {
     "name": "stdout",
     "output_type": "stream",
     "text": [
      "T, mk 3.289789191782842\n"
     ]
    }
   ],
   "source": [
    "import scipy.optimize as spo\n",
    "kb=1.381e-23\n",
    "m=1.16238e-26\n",
    "def gauss(v,v0,a,b,T):\n",
    "    sigma=np.sqrt(kb*T/m)\n",
    "    return a*np.exp(-.5*((v-v0)/sigma)**2)+b\n",
    "bounds=[(-220.0,0.0,0.0,0.0),(-195.0,np.inf,np.inf,np.inf)]\n",
    "guess=[-210,1.0,0.0,1e-3]\n",
    "params=spo.curve_fit(gauss,vArr,signal,bounds=bounds,p0=guess)[0]\n",
    "# params=guess\n",
    "plt.scatter(vArr,signal,label='simulation')\n",
    "plt.plot(vArr,gauss(vArr,*params),c='r',label='fit')\n",
    "plt.ylabel('signal, arbitrary')\n",
    "plt.xlabel('velocity, m/s')\n",
    "plt.legend()\n",
    "plt.show()\n",
    "print('T, mk',1e3*params[-1]) #3.0"
   ],
   "metadata": {
    "collapsed": false,
    "pycharm": {
     "name": "#%%\n"
    }
   }
  },
  {
   "cell_type": "markdown",
   "source": [
    "# Fit now by sending a flat top beam vertically"
   ],
   "metadata": {
    "nteract": {
     "transient": {
      "deleting": false
     }
    },
    "pycharm": {
     "name": "#%% md\n"
    }
   }
  },
  {
   "cell_type": "code",
   "source": [
    "@np.vectorize\n",
    "def voigt_Probe(y,a,b,sigma,gamma):\n",
    "    #be very cautious about FWHM vs HWHM here for gamma. gamma for scipy is HWHM per the docs\n",
    "    v0=voigt_profile(0,sigma,gamma)\n",
    "    v=voigt_profile(y,sigma,gamma)/v0\n",
    "    v=a*v+b\n",
    "    return v\n",
    "\n",
    "def fit_Signal_At_x__Probe(x,beamDiam,binNum=100,maxRadius=np.inf,Plot=False):\n",
    "    yArr,zArr=interpFunction(x)\n",
    "    #scan in the y direction\n",
    "    yVals=yArr[np.abs(zArr)<beamDiam/2]\n",
    "    yVals=yVals[np.abs(yVals)<maxRadius]\n",
    "    signal,yBins=np.histogram(yVals,bins=binNum)\n",
    "    dy=yBins[1]-yBins[0]\n",
    "    yPosArr=yBins[:-1]+dy/2\n",
    "    guess=[signal.max(),signal.min(),1.0,1.0] # [...,sigma,gamma]\n",
    "    bounds=[(0.0),(np.inf)]\n",
    "    params=curve_fit(voigt_Probe,yPosArr,signal,p0=guess,bounds=bounds)[0]\n",
    "    if Plot==True:\n",
    "        plt.scatter(yPosArr,signal)\n",
    "        plt.plot(yPosArr,voigt_Probe(yPosArr,*params),c='r')\n",
    "        plt.show()\n",
    "    return params[-2:]\n",
    "def get_FWHM_At_X__Probe(x,beamDiam,maxRadius=np.inf):\n",
    "    sigma,gamma=fit_Signal_At_x__Probe(x,beamDiam,maxRadius=maxRadius)\n",
    "    return calculate_FWHM_From_Gamma_And_Sigma(sigma,gamma)\n",
    "def plot_Probe_Signal(x,beamDiam,maxRadius=np.inf):\n",
    "    fit_Signal_At_x__Probe(x,beamDiam,maxRadius=maxRadius,Plot=True)\n",
    "\n",
    "xScan=1.82 #meter\n",
    "beamDiam=1 #mm\n",
    "rMax=10 #mm\n",
    "# sigma,gamma=fit_Signal_At_x__Probe(xScan,1,maxRadius=10)\n",
    "# calculate_FWHM_From_Gamma_And_Sigma(sigma,gamma)"
   ],
   "outputs": [],
   "execution_count": 382,
   "metadata": {
    "collapsed": false,
    "pycharm": {
     "name": "#%%\n"
    }
   }
  },
  {
   "cell_type": "code",
   "source": [
    "beamDiamArr=np.linspace(.1,10)\n",
    "vals=[get_FWHM_At_X__Probe(xScan,beamDiam,maxRadius=10) for beamDiam in beamDiamArr]"
   ],
   "outputs": [],
   "execution_count": 383,
   "metadata": {
    "collapsed": false,
    "pycharm": {
     "name": "#%%\n"
    }
   }
  },
  {
   "cell_type": "code",
   "source": [
    "plt.plot(beamDiamArr,vals)"
   ],
   "outputs": [
    {
     "data": {
      "text/plain": "[<matplotlib.lines.Line2D at 0x2c329d070>]"
     },
     "execution_count": 384,
     "metadata": {},
     "output_type": "execute_result"
    },
    {
     "data": {
      "text/plain": "<Figure size 432x288 with 1 Axes>",
      "image/png": "[encoded data removed]"
     },
     "metadata": {
      "needs_background": "light"
     },
     "output_type": "display_data"
    }
   ],
   "execution_count": 384,
   "metadata": {
    "collapsed": false,
    "pycharm": {
     "name": "#%%\n"
    }
   }
  },
  {
   "cell_type": "code",
   "source": [
    "yArr,zArr,pArr=interpFunction(1.82,returnP=True,maxRadius=5)\n",
    "pzArr=pArr[:,1]#[np.logical_and(np.logical_and(yArr>0,yArr<1),np.logical_and(zArr<2,zArr>1))]\n",
    "plt.hist(pzArr,bins=50)\n",
    "plt.show()\n",
    "pzArr.shape"
   ],
   "outputs": [
    {
     "data": {
      "text/plain": "<Figure size 432x288 with 1 Axes>",
      "image/png": "[encoded data removed]"
     },
     "metadata": {
      "needs_background": "light"
     },
     "output_type": "display_data"
    },
    {
     "data": {
      "text/plain": "(19850,)"
     },
     "execution_count": 385,
     "metadata": {},
     "output_type": "execute_result"
    }
   ],
   "execution_count": 385,
   "metadata": {
    "collapsed": false,
    "pycharm": {
     "name": "#%%\n"
    }
   }
  }
 ],
 "metadata": {
  "kernelspec": {
   "display_name": "Python 3 (ipykernel)",
   "language": "python",
   "name": "python3"
  },
  "language_info": {
   "name": "python",
   "version": "3.9.7",
   "mimetype": "text/x-python",
   "codemirror_mode": {
    "name": "ipython",
    "version": 3
   },
   "pygments_lexer": "ipython3",
   "nbconvert_exporter": "python",
   "file_extension": ".py"
  },
  "nteract": {
   "version": "0.28.0"
  }
 },
 "nbformat": 4,
 "nbformat_minor": 4
}