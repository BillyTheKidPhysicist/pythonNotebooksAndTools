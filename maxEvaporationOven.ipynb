{
  "cells": [
    {
      "cell_type": "markdown",
      "source": [
        "# Max oven outgassing calculation\n",
        "\n",
        "Perhaps the oven's flux is limited by outgassing.Theory here is taken from \"An assessment of the evaporation and condensation phenomena of lithium during the operation of a Li(d,xn) fusion relevant neutron source\""
      ],
      "metadata": {
        "collapsed": false,
        "pycharm": {
          "name": "#%% md\n"
        }
      }
    },
    {
      "cell_type": "code",
      "source": [
        "import numpy as np\n",
        "import matplotlib.pyplot as plt\n",
        "\n",
        "m=1.1623e-26 #kg\n",
        "kb=1.3806e-23 #botlzman, SI\n",
        "\n",
        "def pressure_ABC(T,A,B,C):\n",
        "    return 10**(A-(B/(T+C)))\n",
        "@np.vectorize\n",
        "def pressure_NIST(T):\n",
        "    #return pascal\n",
        "    P1,P2=np.nan,np.nan\n",
        "    if 298.14<=T<=1599.99:\n",
        "        A,B,C=4.98831,7918.984,-9.52\n",
        "        P1=pressure_ABC(T,A,B,C)\n",
        "    if 1204<=T<=1353:\n",
        "        A,B,C=1.58992,1603.966,-711.088\n",
        "        P2=pressure_ABC(T,A,B,C)\n",
        "    P_Bar=np.nanmean([P1,P2])  #these values agree\n",
        "    assert np.isnan(P_Bar)==False\n",
        "    P_Pa=100_000*P_Bar\n",
        "    return P_Pa\n",
        "def evaporation_Rate(T):\n",
        "    #T: units of kelvin\n",
        "    diam=10e-3\n",
        "    A=np.pi*(diam/2)**2\n",
        "    P=pressure_NIST(T) #pascal\n",
        "    coefficient=1.66\n",
        "    massFlowPerArea=coefficient*P*np.sqrt(m/(2*np.pi*kb*T))\n",
        "    atomFlowPerArea=massFlowPerArea/m\n",
        "    flux=atomFlowPerArea*A\n",
        "    return flux\n",
        "\n",
        "TArr=np.linspace(500,800)+273\n",
        "rate=evaporation_Rate(TArr)\n",
        "plt.semilogy(TArr-273.15,rate)\n",
        "plt.grid()\n",
        "plt.title(\"Maximum evaportation rate of our oven\")\n",
        "plt.xlabel(\"Temperature of reservoir, Celcius\")\n",
        "plt.ylabel(\"Maximum atom flux, atom/s\")\n",
        "plt.show()\n",
        "evaporation_Rate(773)"
      ],
      "outputs": [
        {
          "output_type": "display_data",
          "data": {
            "text/plain": "<Figure size 432x288 with 1 Axes>",
            "image/png": "[encoded data removed]"
          },
          "metadata": {
            "needs_background": "light"
          }
        },
        {
          "output_type": "execute_result",
          "execution_count": 22,
          "data": {
            "text/plain": "1.9293601479745923e+18"
          },
          "metadata": {}
        }
      ],
      "execution_count": 22,
      "metadata": {
        "collapsed": false,
        "pycharm": {
          "name": "#%%\n"
        }
      }
    },
    {
      "cell_type": "code",
      "source": [],
      "outputs": [],
      "execution_count": null,
      "metadata": {
        "collapsed": false,
        "pycharm": {
          "name": "#%%\n"
        }
      }
    },
    {
      "cell_type": "code",
      "source": [],
      "outputs": [],
      "execution_count": null,
      "metadata": {
        "collapsed": true,
        "jupyter": {
          "source_hidden": false,
          "outputs_hidden": false
        },
        "nteract": {
          "transient": {
            "deleting": false
          }
        }
      }
    },
    {
      "cell_type": "code",
      "source": [],
      "outputs": [],
      "execution_count": null,
      "metadata": {
        "collapsed": true,
        "jupyter": {
          "source_hidden": false,
          "outputs_hidden": false
        },
        "nteract": {
          "transient": {
            "deleting": false
          }
        }
      }
    },
    {
      "cell_type": "code",
      "source": [],
      "outputs": [],
      "execution_count": null,
      "metadata": {
        "collapsed": true,
        "jupyter": {
          "source_hidden": false,
          "outputs_hidden": false
        },
        "nteract": {
          "transient": {
            "deleting": false
          }
        }
      }
    },
    {
      "cell_type": "code",
      "source": [],
      "outputs": [],
      "execution_count": null,
      "metadata": {
        "collapsed": false,
        "pycharm": {
          "name": "#%%\n"
        }
      }
    }
  ],
  "metadata": {
    "kernel_info": {
      "name": "python3"
    },
    "language_info": {
      "name": "python3"
    },
    "kernelspec": {
      "argv": [
        "/opt/homebrew/Caskroom/miniforge/base/bin/python3.9",
        "-m",
        "ipykernel_launcher",
        "-f",
        "{connection_file}"
      ],
      "display_name": "Python 3 (ipykernel)",
      "language": "python",
      "metadata": {
        "debugger": true
      },
      "name": "python3"
    },
    "nteract": {
      "version": "0.28.0"
    }
  },
  "nbformat": 4,
  "nbformat_minor": 0
}