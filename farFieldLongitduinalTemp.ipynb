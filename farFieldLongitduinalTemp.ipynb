{
 "cells": [
  {
   "cell_type": "code",
   "source": [
    "import numpy as np\n",
    "from MakeMHzScale import  MHzScale\n",
    "from astropy.io import fits\n",
    "import matplotlib.pyplot as plt\n",
    "import scipy.special as spf\n",
    "import scipy.optimize as spo\n",
    "angle=13*np.pi/180\n",
    "kb=1.38e-23\n",
    "m=1.16e-26\n",
    "\n",
    "I0=(10e-6)*100**2 #convert to watts/ m^2\n",
    "\n",
    "sigmaLaserJitterMeasured=1.6 #MHz. measured on day of data taking\n",
    "\n",
    "fitsFile=fits.open('run43Far.fits') #9_23_21\n",
    "imagesArrRaw=fitsFile[0].data\n",
    "imagesArrRaw=imagesArrRaw.astype(float) #need to convert to float from int16\n",
    "imagesArrRaw=np.flip(imagesArrRaw,axis=1)\n",
    "\n",
    "\n",
    "DAQData=np.loadtxt('run43DAQData.csv',delimiter=',')\n",
    "MHzArr=MHzScale(DAQData).make_MHZ_Scale(False)\n",
    "startVolt,stopVolt=-1.5,-.9\n",
    "\n",
    "galvoVoltArr=DAQData[:,0]\n",
    "P=np.polyfit(galvoVoltArr,MHzArr, 1)\n",
    "imageVoltArr=np.linspace(startVolt,stopVolt,num=len(imagesArrRaw))\n",
    "imagesMHzArr=P[1]+P[0]*imageVoltArr\n",
    "\n",
    "plt.plot(imagesMHzArr,np.mean(np.mean(imagesArrRaw,axis=1),axis=1))\n",
    "plt.show()"
   ],
   "outputs": [
    {
     "name": "stdout",
     "output_type": "stream",
     "text": [
      "MHz per volt 584 -641\n"
     ]
    },
    {
     "data": {
      "text/plain": "<Figure size 432x288 with 1 Axes>",
      "image/png": "[encoded data removed]"
     },
     "metadata": {
      "needs_background": "light"
     },
     "output_type": "display_data"
    }
   ],
   "execution_count": 66,
   "metadata": {
    "collapsed": true,
    "jupyter": {
     "source_hidden": false,
     "outputs_hidden": false
    },
    "nteract": {
     "transient": {
      "deleting": false
     }
    },
    "execution": {
     "iopub.status.busy": "2022-02-06T02:31:50.540Z",
     "iopub.execute_input": "2022-02-06T02:31:50.546Z",
     "iopub.status.idle": "2022-02-06T02:31:51.062Z",
     "shell.execute_reply": "2022-02-06T02:31:51.073Z"
    }
   }
  },
  {
   "cell_type": "code",
   "execution_count": 67,
   "outputs": [
    {
     "data": {
      "text/plain": "10.884977098913401"
     },
     "execution_count": 67,
     "metadata": {},
     "output_type": "execute_result"
    }
   ],
   "source": [
    "#scattering rate\n",
    "lam=671e-9\n",
    "freq0=3e8/lam\n",
    "h=6.626e-34\n",
    "crossSection=6*np.pi*(lam/(2*np.pi))**2\n",
    "scatteringRate=(I0/(h*freq0))*crossSection\n",
    "L=3e-2 #upper bound on length of laser\n",
    "t=L/200.0\n",
    "scatteringRate*t"
   ],
   "metadata": {
    "collapsed": false,
    "pycharm": {
     "name": "#%%\n"
    }
   }
  },
  {
   "cell_type": "code",
   "execution_count": 68,
   "outputs": [],
   "source": [
    "import warnings\n",
    "import time\n",
    "def extract_Sub_Image_From_Fits_Coords(images,xFitsCoord,yFitsCoord,xWidth,yWidth,overRideDataTypeWarning=False):\n",
    "    #images: A list,array or single images from which to extract the subimages\n",
    "    #xFitsCoord: x coordinate in fits file of box center\n",
    "    #yFitsCoord: y coordinate in fits file of box center\n",
    "    #xWidth: x width of box in fits file\n",
    "    #yWidth: y widht of box in fits file\n",
    "    if not all(np.issubdtype(type(val),int) for val in [xFitsCoord,yFitsCoord,xWidth,yWidth]): #Have to do an annoying\n",
    "        # trick to accept numpy and python integers for these values\n",
    "        raise Exception(\"coords and dimensions must bet integers\")\n",
    "    if isinstance(images,np.ndarray):\n",
    "        imageArr=images\n",
    "    else:\n",
    "        imageArr=np.array(images)\n",
    "    if overRideDataTypeWarning==False and imageArr.dtype != 'float64':\n",
    "        warnings.warn('\\n The data type of your image is not a float. \\n It is very unlikely this was intentional \\n'\n",
    "                      'This can have serious unintended consequences if you don\\'t understand integer behaviour clearly \\n '\n",
    "                      'You can')\n",
    "        time.sleep(5.0)\n",
    "    singleImage=False\n",
    "    if len(imageArr.shape)==2: # if a single image instead of a movie\n",
    "        singleImage=True\n",
    "        imageArr=np.array([imageArr]) #convert into a one frame movie\n",
    "    imageSizeY, imageSizeX=imageArr[0].shape\n",
    "    if xWidth%2!=1 or yWidth%2!=1:\n",
    "        raise Exception('Fit file box dimensions must be even for this to work simply')\n",
    "    if not (xFitsCoord+xWidth//2<imageSizeX and xFitsCoord-xWidth//2>0 ):\n",
    "        raise Exception(\"box in x dimension exceeds image bounds\")\n",
    "    if not (yFitsCoord+yWidth//2<imageSizeY and yFitsCoord-yWidth//2>0 ):\n",
    "        raise Exception(\"box in y dimension exceeds image bounds\")\n",
    "    xStartFits=xFitsCoord-(xWidth-1)//2\n",
    "    xEndFits=xFitsCoord+(xWidth-1)//2\n",
    "    xStartNP=xStartFits-1\n",
    "    xEndNP=xEndFits\n",
    "\n",
    "    yStartFits=yFitsCoord-(yWidth-1)//2\n",
    "    yEndFits=yFitsCoord+(yWidth-1)//2\n",
    "\n",
    "    yStartNP=(imageSizeY-yEndFits)\n",
    "    yEndNP=(imageSizeY-yStartFits)+1\n",
    "    subImages=imageArr[:, yStartNP:yEndNP, xStartNP:xEndNP]\n",
    "    if singleImage==True:\n",
    "        subImage=subImages[0]\n",
    "        return subImage\n",
    "    else:\n",
    "        return subImages"
   ],
   "metadata": {
    "collapsed": false,
    "pycharm": {
     "name": "#%%\n"
    }
   }
  },
  {
   "cell_type": "code",
   "source": [
    "%matplotlib inline\n",
    "background=imagesArrRaw[0]\n",
    "imagesArr=imagesArrRaw-background\n",
    "xFits=150\n",
    "yFits=145\n",
    "width=3\n",
    "\n",
    "subImage=extract_Sub_Image_From_Fits_Coords(imagesArr,xFits,yFits,width,width)\n",
    "spectralProfile=np.mean(np.mean(subImage,axis=1),axis=1)\n",
    "\n",
    "spectralProfile=spectralProfile/spectralProfile.max()\n",
    "\n",
    "plt.plot(np.arange(1,71),spectralProfile)\n",
    "plt.grid()\n",
    "plt.show()"
   ],
   "outputs": [
    {
     "data": {
      "text/plain": "<Figure size 432x288 with 1 Axes>",
      "image/png": "[encoded data removed]"
     },
     "metadata": {
      "needs_background": "light"
     },
     "output_type": "display_data"
    }
   ],
   "execution_count": 73,
   "metadata": {
    "collapsed": true,
    "jupyter": {
     "source_hidden": false,
     "outputs_hidden": false
    },
    "nteract": {
     "transient": {
      "deleting": false
     }
    },
    "pycharm": {
     "name": "#%%\n"
    },
    "execution": {
     "iopub.status.busy": "2022-02-06T02:32:06.111Z",
     "iopub.execute_input": "2022-02-06T02:32:06.115Z",
     "iopub.status.idle": "2022-02-06T02:32:06.137Z",
     "shell.execute_reply": "2022-02-06T02:32:06.140Z"
    }
   }
  },
  {
   "cell_type": "code",
   "source": [
    "#need multi peak fit\n",
    "import globalVariables as gv\n",
    "def _voigt(f,f0,a,sigma):\n",
    "    #units must be consistent!!\n",
    "    #f, frequency value\n",
    "    #a, height of voigt\n",
    "    #f0, center frequency\n",
    "    #gamma, FWHM of the lorentzian\n",
    "    gammaFWHM=5.86\n",
    "    gammaHWHM=gammaFWHM/2.0\n",
    "    x=f-f0\n",
    "    v0=spf.voigt_profile(0,sigma,gammaHWHM)\n",
    "    v=a*spf.voigt_profile(x,sigma,gammaHWHM)/v0\n",
    "    return v\n",
    "\n",
    "def _multi_Voigt(freq, freq0, a,b, sigma,sigmaLaserJitter=sigmaLaserJitterMeasured):\n",
    "    aRatio=2*gv.F2F1Ratio  #ratio of intensity of f=2 to f=1. First number is power ratio in sideband. Second\n",
    "    # fraction is ratio of hyperfine transitions (see globalVariable.py for more info in the comments for\n",
    "    #F2F1Ratio).\n",
    "    assert sigma>=0.0 and a>0.0\n",
    "    sigma=np.sqrt(sigma**2+sigmaLaserJitter) #laser jitter\n",
    "    a2=(aRatio/(aRatio+1))*a #I do some funny business here to try and get the parameter \"a\" to more closely match\n",
    "    #the total height. a2/a1 still equals the parameter \"aRatio\", but now they also add up the parameter \"a\"\n",
    "    a1=a*1/(aRatio+1) #same funny business\n",
    "    val=0.0\n",
    "    #F=2 transition\n",
    "    val+=a2*_voigt(freq, freq0+gv.F1Sep/1E6, gv.S21, sigma)\n",
    "    val+=a2*_voigt(freq, freq0+gv.F2Sep/1E6, gv.S22, sigma)\n",
    "    val+=a2*_voigt(freq, freq0+gv.F3Sep/1E6, gv.S23, sigma)\n",
    "    # F=1 transition\n",
    "    val+=a1*_voigt(freq, freq0+gv.F0Sep/1E6, gv.S10, sigma)\n",
    "    val+=a1*_voigt(freq, freq0+gv.F1Sep/1E6, gv.S11, sigma)\n",
    "    val+=a1*_voigt(freq, freq0+gv.F2Sep/1E6, gv.S12, sigma)\n",
    "    return val+b\n",
    "guess=[imagesMHzArr[np.argmax(spectralProfile)],spectralProfile.max(),0.0,5.0]\n",
    "bounds=[(-np.inf,0.0,-np.inf,0.0),(np.inf,np.inf,np.inf,np.inf)]\n",
    "params,pcov=spo.curve_fit(_multi_Voigt,imagesMHzArr,spectralProfile,p0=guess,bounds=bounds)\n",
    "# params[-1]=2.0\n",
    "perr = np.sqrt(np.diag(pcov))\n",
    "%matplotlib inline\n",
    "indexStart=25\n",
    "indexEnd=15\n",
    "xPLot=np.linspace(imagesMHzArr[indexStart],imagesMHzArr[-indexEnd],10_000)\n",
    "plt.scatter(imagesMHzArr[indexStart:-indexEnd],spectralProfile[indexStart:-indexEnd])\n",
    "plt.plot(xPLot,_multi_Voigt(xPLot,*params),c='r')\n",
    "plt.show()\n",
    "sigmaMHz=params[-1]\n",
    "sigmaMHz=sigmaMHz/np.cos(angle) #account for angle\n",
    "sigmaMHz_Error=perr[-1]/np.cos(angle)\n",
    "\n",
    "sigmaVelocity=(sigmaMHz+0*perr[-1])/1.5\n",
    "T=sigmaVelocity**2*m/kb\n",
    "print('sigma:',sigmaMHz)\n",
    "print('T:',np.round(1e3*T,1))\n",
    "print('velocity FHWM:',np.round(2.355*sigmaVelocity,1),'m/s')\n",
    "np.sqrt(sigmaMHz**2-(np.sin(angle)*8.0)**2)/np.cos(angle),sigmaMHz"
   ],
   "outputs": [
    {
     "data": {
      "text/plain": "<Figure size 432x288 with 1 Axes>",
      "image/png": "[encoded data removed]"
     },
     "metadata": {
      "needs_background": "light"
     },
     "output_type": "display_data"
    },
    {
     "name": "stdout",
     "output_type": "stream",
     "text": [
      "sigma: 4.111099453239524\n",
      "T: 6.3\n",
      "velocity FHWM: 6.5 m/s\n"
     ]
    },
    {
     "data": {
      "text/plain": "(3.7935160046080894, 4.111099453239524)"
     },
     "execution_count": 96,
     "metadata": {},
     "output_type": "execute_result"
    }
   ],
   "execution_count": 96,
   "metadata": {
    "collapsed": false,
    "pycharm": {
     "name": "#%%\n"
    },
    "execution": {
     "iopub.status.busy": "2022-02-06T16:03:31.237Z",
     "iopub.execute_input": "2022-02-06T16:03:31.244Z",
     "iopub.status.idle": "2022-02-06T16:03:31.292Z",
     "shell.execute_reply": "2022-02-06T16:03:31.302Z"
    }
   }
  },
  {
   "cell_type": "markdown",
   "source": [
    "### Plot of fit"
   ],
   "metadata": {
    "collapsed": false,
    "pycharm": {
     "name": "#%% md\n"
    }
   }
  },
  {
   "cell_type": "code",
   "execution_count": 97,
   "outputs": [
    {
     "data": {
      "text/plain": "<Figure size 432x288 with 1 Axes>",
      "image/png": "[encoded data removed]"
     },
     "metadata": {
      "needs_background": "light"
     },
     "output_type": "display_data"
    }
   ],
   "source": [
    "xPLot=np.linspace(imagesMHzArr[indexStart],imagesMHzArr[-indexEnd],10_000)\n",
    "plt.scatter(imagesMHzArr[indexStart:-indexEnd]-params[0],spectralProfile[indexStart:-indexEnd])\n",
    "plt.plot(xPLot-params[0],_multi_Voigt(xPLot,*params),c='r')\n",
    "plt.xlabel('Frequency (MHz)')\n",
    "plt.ylabel(\"signal (arbitrary)\")\n",
    "plt.title('Fit to longitudinal spectral data')\n",
    "\n",
    "plt.show()"
   ],
   "metadata": {
    "collapsed": false,
    "pycharm": {
     "name": "#%%\n"
    }
   }
  },
  {
   "cell_type": "markdown",
   "source": [
    "### Plot of individual profiles"
   ],
   "metadata": {
    "collapsed": false,
    "pycharm": {
     "name": "#%% md\n"
    }
   }
  },
  {
   "cell_type": "code",
   "execution_count": 102,
   "outputs": [
    {
     "data": {
      "text/plain": "<Figure size 432x288 with 1 Axes>",
      "image/png": "[encoded data removed]"
     },
     "metadata": {
      "needs_background": "light"
     },
     "output_type": "display_data"
    }
   ],
   "source": [
    "# profile\n",
    "def laser_Gauss(x):\n",
    "    return .9*np.exp(-.5*(x/sigmaLaserJitterMeasured)**2)\n",
    "def temp_Gauss(x,sigma):\n",
    "    return np.exp(-.5*(x/sigma)**2)\n",
    "def transition_Prof(x):\n",
    "    sigmaTemperature=1e-12\n",
    "    return 1.3*_multi_Voigt(x,0.0,1,0.0,sigmaTemperature,sigmaLaserJitter=0.0)\n",
    "sigmaTemp=5.0\n",
    "freqArr=np.linspace(-30,30,1000)\n",
    "plt.plot(freqArr,transition_Prof(freqArr),label='Transition profile')\n",
    "plt.plot(freqArr,laser_Gauss(freqArr),linestyle='--',linewidth=2,label='Laser noise profile')\n",
    "plt.plot(freqArr,temp_Gauss(freqArr,sigmaTemp),linestyle=':',linewidth=3,label='Temperature profile')\n",
    "plt.xlabel('Frequency (MHz)')\n",
    "plt.ylabel('Signal (arbitrary)')\n",
    "plt.legend()\n",
    "plt.show()"
   ],
   "metadata": {
    "collapsed": false,
    "pycharm": {
     "name": "#%%\n"
    }
   }
  },
  {
   "cell_type": "code",
   "execution_count": 116,
   "outputs": [
    {
     "name": "stdout",
     "output_type": "stream",
     "text": [
      "maximum amount of cycles:  0.7487482495545887\n"
     ]
    }
   ],
   "source": [
    "P=153e-9\n",
    "wx=2.83e-2\n",
    "wy=.59e-3\n",
    "I0=2*P/(np.pi*wx*wy)\n",
    "lam=671e-9\n",
    "freq0=3e8/lam\n",
    "h=6.626e-34\n",
    "crossSection=6*np.pi*(lam/(2*np.pi))**2\n",
    "scatteringRate=(I0/(h*freq0))*crossSection\n",
    "L=1.25*wx #upper bound on length of laser\n",
    "t=L/200.0\n",
    "print('maximum amount of cycles: ',scatteringRate*t)"
   ],
   "metadata": {
    "collapsed": false,
    "pycharm": {
     "name": "#%%\n"
    }
   }
  },
  {
   "cell_type": "code",
   "execution_count": 113,
   "outputs": [
    {
     "data": {
      "text/plain": "1.2533141373155*I0*w",
      "text/latex": "$\\displaystyle 1.2533141373155 I_{0} w$"
     },
     "execution_count": 113,
     "metadata": {},
     "output_type": "execute_result"
    }
   ],
   "source": [
    "import sympy as sym\n",
    "I0,w,x=sym.symbols('I0 w x',real=True)\n",
    "func=I0*sym.exp(-2*x**2/w**2)\n",
    "sym.N(sym.integrate(func,(x,-sym.oo,sym.oo))).args[0].args[0]"
   ],
   "metadata": {
    "collapsed": false,
    "pycharm": {
     "name": "#%%\n"
    }
   }
  },
  {
   "cell_type": "code",
   "execution_count": 72,
   "outputs": [],
   "source": [],
   "metadata": {
    "collapsed": false,
    "pycharm": {
     "name": "#%%\n"
    }
   }
  },
  {
   "cell_type": "code",
   "execution_count": 72,
   "outputs": [],
   "source": [],
   "metadata": {
    "collapsed": false,
    "pycharm": {
     "name": "#%%\n"
    }
   }
  },
  {
   "cell_type": "code",
   "execution_count": 72,
   "outputs": [],
   "source": [],
   "metadata": {
    "collapsed": false,
    "pycharm": {
     "name": "#%%\n"
    }
   }
  },
  {
   "cell_type": "code",
   "execution_count": 72,
   "outputs": [],
   "source": [],
   "metadata": {
    "collapsed": false,
    "pycharm": {
     "name": "#%%\n"
    }
   }
  },
  {
   "cell_type": "code",
   "execution_count": 72,
   "outputs": [],
   "source": [],
   "metadata": {
    "collapsed": false,
    "pycharm": {
     "name": "#%%\n"
    }
   }
  },
  {
   "cell_type": "code",
   "execution_count": 72,
   "outputs": [],
   "source": [],
   "metadata": {
    "collapsed": false,
    "pycharm": {
     "name": "#%%\n"
    }
   }
  },
  {
   "cell_type": "code",
   "execution_count": 72,
   "outputs": [],
   "source": [],
   "metadata": {
    "collapsed": false,
    "pycharm": {
     "name": "#%%\n"
    }
   }
  }
 ],
 "metadata": {
  "kernel_info": {
   "name": "python3"
  },
  "language_info": {
   "name": "python",
   "version": "3.9.7",
   "mimetype": "text/x-python",
   "codemirror_mode": {
    "name": "ipython",
    "version": 3
   },
   "pygments_lexer": "ipython3",
   "nbconvert_exporter": "python",
   "file_extension": ".py"
  },
  "kernelspec": {
   "argv": [
    "/opt/homebrew/Caskroom/miniforge/base/bin/python3.9",
    "-m",
    "ipykernel_launcher",
    "-f",
    "{connection_file}"
   ],
   "display_name": "Python 3 (ipykernel)",
   "language": "python",
   "metadata": {
    "debugger": true
   },
   "name": "python3"
  },
  "nteract": {
   "version": "0.28.0"
  }
 },
 "nbformat": 4,
 "nbformat_minor": 0
}