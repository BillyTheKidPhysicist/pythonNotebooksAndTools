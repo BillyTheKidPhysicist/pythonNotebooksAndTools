{
 "cells": [
  {
   "cell_type": "markdown",
   "source": [
    "# oven temperature determination"
   ],
   "metadata": {
    "collapsed": true,
    "jupyter": {
     "source_hidden": false,
     "outputs_hidden": false
    },
    "nteract": {
     "transient": {
      "deleting": false
     }
    },
    "pycharm": {
     "name": "#%% md\n"
    }
   }
  },
  {
   "cell_type": "code",
   "source": [
    "from astropy.io import fits\n",
    "import numpy as np\n",
    "import matplotlib.pyplot as plt\n",
    "import scipy.optimize as spo\n"
   ],
   "outputs": [],
   "execution_count": 105,
   "metadata": {
    "collapsed": false,
    "pycharm": {
     "name": "#%%\n"
    }
   }
  },
  {
   "cell_type": "code",
   "source": [
    "#----pressure and effusion functions------\n",
    "ovenHoleDiam=1e-3\n",
    "ovenHoleArea=np.pi*(ovenHoleDiam/2)**2 #SI\n",
    "m_Li=1.1623e-26 #kg\n",
    "K_B=1.3806e-23 #botlzman, SI\n",
    "\n",
    "def pressure_ABC(T,A,B,C):\n",
    "    return 10**(A-(B/(T+C)))\n",
    "@np.vectorize\n",
    "def pressure_NIST(T):\n",
    "    P1,P2=np.nan,np.nan\n",
    "    if 298.14<=T<=1599.99:\n",
    "        A,B,C=4.98831,7918.984,-9.52\n",
    "        P1=pressure_ABC(T,A,B,C)\n",
    "    if 1204<=T<=1353:\n",
    "        A,B,C=1.58992,1603.966,-711.088\n",
    "        P2=pressure_ABC(T,A,B,C)\n",
    "    P_Bar=np.nanmean([P1,P2])  #these values agree\n",
    "    assert np.isnan(P_Bar)==False\n",
    "    P_Pa=100_000*P_Bar\n",
    "    return P_Pa\n",
    "def Q_Effusive(T,A=ovenHoleArea,m=m_Li):\n",
    "    P=pressure_NIST(T)\n",
    "    return P*A/np.sqrt(2*np.pi*m*K_B*T)\n",
    "@np.vectorize()\n",
    "def peak_Signal_Fit(deltaT,T0,S0):\n",
    "    return S0*pressure_NIST(T0+deltaT)/np.sqrt(T0+deltaT)"
   ],
   "outputs": [],
   "execution_count": 106,
   "metadata": {
    "collapsed": false,
    "pycharm": {
     "name": "#%%\n"
    }
   }
  },
  {
   "cell_type": "markdown",
   "source": [
    "### Data\n",
    "To fit the temperature function I need data in the form of the peak signal minus the background. I will keep it simple and use the fits file to get this. This works if I have the laser in the same place for a variety of temperatures"
   ],
   "metadata": {
    "collapsed": false,
    "pycharm": {
     "name": "#%% md\n"
    }
   }
  },
  {
   "cell_type": "code",
   "source": [],
   "outputs": [],
   "execution_count": null,
   "metadata": {
    "collapsed": false,
    "pycharm": {
     "name": "#%%\n"
    }
   }
  },
  {
   "cell_type": "code",
   "source": [],
   "outputs": [],
   "execution_count": null,
   "metadata": {
    "collapsed": false,
    "pycharm": {
     "name": "#%%\n"
    }
   }
  },
  {
   "cell_type": "code",
   "source": [],
   "outputs": [],
   "execution_count": null,
   "metadata": {
    "collapsed": false,
    "pycharm": {
     "name": "#%%\n"
    }
   }
  },
  {
   "cell_type": "code",
   "source": [],
   "outputs": [],
   "execution_count": null,
   "metadata": {
    "collapsed": false,
    "pycharm": {
     "name": "#%%\n"
    }
   }
  },
  {
   "cell_type": "code",
   "source": [],
   "outputs": [],
   "execution_count": null,
   "metadata": {
    "collapsed": false,
    "pycharm": {
     "name": "#%%\n"
    }
   }
  },
  {
   "cell_type": "code",
   "source": [],
   "outputs": [],
   "execution_count": null,
   "metadata": {
    "collapsed": false,
    "pycharm": {
     "name": "#%%\n"
    }
   }
  }
 ],
 "metadata": {
  "kernel_info": {
   "name": "python3"
  },
  "language_info": {
   "name": "python3"
  },
  "kernelspec": {
   "argv": [
    "/opt/homebrew/Caskroom/miniforge/base/bin/python3.9",
    "-m",
    "ipykernel_launcher",
    "-f",
    "{connection_file}"
   ],
   "display_name": "Python 3 (ipykernel)",
   "language": "python",
   "metadata": {
    "debugger": true
   },
   "name": "python3"
  },
  "nteract": {
   "version": "0.28.0"
  }
 },
 "nbformat": 4,
 "nbformat_minor": 0
}